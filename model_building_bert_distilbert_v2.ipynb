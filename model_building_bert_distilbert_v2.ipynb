{
  "cells": [
    {
      "cell_type": "markdown",
      "metadata": {
        "id": "QoI_YEYJXN6T"
      },
      "source": [
        "# Pytorch Framework for Multi-class Text Classification"
      ]
    },
    {
      "cell_type": "markdown",
      "metadata": {
        "id": "zVfk9jpKXN6Z"
      },
      "source": [
        "Sec Filing event extraction- 3 Class Problem\n",
        "\n",
        "* \n",
        "* Class Labels: 3 <br/>\n",
        "\n",
        "    0 - Acquire <br/>\n",
        "    1 - Expansion <br/>\n",
        "    2 - Scam <br/>  "
      ]
    },
    {
      "cell_type": "markdown",
      "metadata": {
        "id": "gaY5_qKFXN6a"
      },
      "source": [
        "## Reading Data"
      ]
    },
    {
      "cell_type": "code",
      "source": [
        "%%bash\n",
        "source activate myenv"
      ],
      "metadata": {
        "colab": {
          "base_uri": "https://localhost:8080/"
        },
        "id": "V6iiuN5cLFhT",
        "outputId": "a8e61695-0e18-4611-cfd6-8d80037a4de8"
      },
      "execution_count": null,
      "outputs": [
        {
          "output_type": "stream",
          "name": "stderr",
          "text": [
            "bash: line 1: activate: No such file or directory\n"
          ]
        }
      ]
    },
    {
      "cell_type": "code",
      "source": [
        "!pip install tensorflow==1.15.2\n",
        "print('_____')\n",
        "!pip install tensorflow-gpu==1.15.2\n"
      ],
      "metadata": {
        "colab": {
          "base_uri": "https://localhost:8080/"
        },
        "id": "2FZZk510LNgm",
        "outputId": "7d209471-24d8-4889-e260-ec48947ee8f6"
      },
      "execution_count": null,
      "outputs": [
        {
          "output_type": "stream",
          "name": "stdout",
          "text": [
            "Collecting tensorflow==1.15.2\n",
            "  Downloading tensorflow-1.15.2-cp37-cp37m-manylinux2010_x86_64.whl (110.5 MB)\n",
            "\u001b[K     |████████████████████████████████| 110.5 MB 43 kB/s \n",
            "\u001b[?25hRequirement already satisfied: opt-einsum>=2.3.2 in /usr/local/lib/python3.7/dist-packages (from tensorflow==1.15.2) (3.3.0)\n",
            "Collecting tensorflow-estimator==1.15.1\n",
            "  Downloading tensorflow_estimator-1.15.1-py2.py3-none-any.whl (503 kB)\n",
            "\u001b[K     |████████████████████████████████| 503 kB 69.8 MB/s \n",
            "\u001b[?25hRequirement already satisfied: wrapt>=1.11.1 in /usr/local/lib/python3.7/dist-packages (from tensorflow==1.15.2) (1.13.3)\n",
            "Requirement already satisfied: termcolor>=1.1.0 in /usr/local/lib/python3.7/dist-packages (from tensorflow==1.15.2) (1.1.0)\n",
            "Requirement already satisfied: six>=1.10.0 in /usr/local/lib/python3.7/dist-packages (from tensorflow==1.15.2) (1.15.0)\n",
            "Requirement already satisfied: absl-py>=0.7.0 in /usr/local/lib/python3.7/dist-packages (from tensorflow==1.15.2) (0.12.0)\n",
            "Requirement already satisfied: keras-preprocessing>=1.0.5 in /usr/local/lib/python3.7/dist-packages (from tensorflow==1.15.2) (1.1.2)\n",
            "Collecting gast==0.2.2\n",
            "  Downloading gast-0.2.2.tar.gz (10 kB)\n",
            "Collecting tensorboard<1.16.0,>=1.15.0\n",
            "  Downloading tensorboard-1.15.0-py3-none-any.whl (3.8 MB)\n",
            "\u001b[K     |████████████████████████████████| 3.8 MB 50.0 MB/s \n",
            "\u001b[?25hRequirement already satisfied: grpcio>=1.8.6 in /usr/local/lib/python3.7/dist-packages (from tensorflow==1.15.2) (1.43.0)\n",
            "Requirement already satisfied: wheel>=0.26 in /usr/local/lib/python3.7/dist-packages (from tensorflow==1.15.2) (0.37.1)\n",
            "Requirement already satisfied: protobuf>=3.6.1 in /usr/local/lib/python3.7/dist-packages (from tensorflow==1.15.2) (3.17.3)\n",
            "Requirement already satisfied: astor>=0.6.0 in /usr/local/lib/python3.7/dist-packages (from tensorflow==1.15.2) (0.8.1)\n",
            "Requirement already satisfied: numpy<2.0,>=1.16.0 in /usr/local/lib/python3.7/dist-packages (from tensorflow==1.15.2) (1.19.5)\n",
            "Requirement already satisfied: google-pasta>=0.1.6 in /usr/local/lib/python3.7/dist-packages (from tensorflow==1.15.2) (0.2.0)\n",
            "Collecting keras-applications>=1.0.8\n",
            "  Downloading Keras_Applications-1.0.8-py3-none-any.whl (50 kB)\n",
            "\u001b[K     |████████████████████████████████| 50 kB 9.7 MB/s \n",
            "\u001b[?25hRequirement already satisfied: h5py in /usr/local/lib/python3.7/dist-packages (from keras-applications>=1.0.8->tensorflow==1.15.2) (3.1.0)\n",
            "Requirement already satisfied: markdown>=2.6.8 in /usr/local/lib/python3.7/dist-packages (from tensorboard<1.16.0,>=1.15.0->tensorflow==1.15.2) (3.3.6)\n",
            "Requirement already satisfied: setuptools>=41.0.0 in /usr/local/lib/python3.7/dist-packages (from tensorboard<1.16.0,>=1.15.0->tensorflow==1.15.2) (57.4.0)\n",
            "Requirement already satisfied: werkzeug>=0.11.15 in /usr/local/lib/python3.7/dist-packages (from tensorboard<1.16.0,>=1.15.0->tensorflow==1.15.2) (1.0.1)\n",
            "Requirement already satisfied: importlib-metadata>=4.4 in /usr/local/lib/python3.7/dist-packages (from markdown>=2.6.8->tensorboard<1.16.0,>=1.15.0->tensorflow==1.15.2) (4.10.0)\n",
            "Requirement already satisfied: typing-extensions>=3.6.4 in /usr/local/lib/python3.7/dist-packages (from importlib-metadata>=4.4->markdown>=2.6.8->tensorboard<1.16.0,>=1.15.0->tensorflow==1.15.2) (3.10.0.2)\n",
            "Requirement already satisfied: zipp>=0.5 in /usr/local/lib/python3.7/dist-packages (from importlib-metadata>=4.4->markdown>=2.6.8->tensorboard<1.16.0,>=1.15.0->tensorflow==1.15.2) (3.7.0)\n",
            "Requirement already satisfied: cached-property in /usr/local/lib/python3.7/dist-packages (from h5py->keras-applications>=1.0.8->tensorflow==1.15.2) (1.5.2)\n",
            "Building wheels for collected packages: gast\n",
            "  Building wheel for gast (setup.py) ... \u001b[?25l\u001b[?25hdone\n",
            "  Created wheel for gast: filename=gast-0.2.2-py3-none-any.whl size=7554 sha256=da60f7d4cb96d5541e1a49f8ab4c6a390ebbd28784666ebb38c8e97660941cca\n",
            "  Stored in directory: /root/.cache/pip/wheels/21/7f/02/420f32a803f7d0967b48dd823da3f558c5166991bfd204eef3\n",
            "Successfully built gast\n",
            "Installing collected packages: tensorflow-estimator, tensorboard, keras-applications, gast, tensorflow\n",
            "  Attempting uninstall: tensorflow-estimator\n",
            "    Found existing installation: tensorflow-estimator 2.7.0\n",
            "    Uninstalling tensorflow-estimator-2.7.0:\n",
            "      Successfully uninstalled tensorflow-estimator-2.7.0\n",
            "  Attempting uninstall: tensorboard\n",
            "    Found existing installation: tensorboard 2.7.0\n",
            "    Uninstalling tensorboard-2.7.0:\n",
            "      Successfully uninstalled tensorboard-2.7.0\n",
            "  Attempting uninstall: gast\n",
            "    Found existing installation: gast 0.4.0\n",
            "    Uninstalling gast-0.4.0:\n",
            "      Successfully uninstalled gast-0.4.0\n",
            "  Attempting uninstall: tensorflow\n",
            "    Found existing installation: tensorflow 2.7.0\n",
            "    Uninstalling tensorflow-2.7.0:\n",
            "      Successfully uninstalled tensorflow-2.7.0\n",
            "\u001b[31mERROR: pip's dependency resolver does not currently take into account all the packages that are installed. This behaviour is the source of the following dependency conflicts.\n",
            "tensorflow-probability 0.15.0 requires gast>=0.3.2, but you have gast 0.2.2 which is incompatible.\n",
            "kapre 0.3.6 requires tensorflow>=2.0.0, but you have tensorflow 1.15.2 which is incompatible.\u001b[0m\n",
            "Successfully installed gast-0.2.2 keras-applications-1.0.8 tensorboard-1.15.0 tensorflow-1.15.2 tensorflow-estimator-1.15.1\n",
            "_____\n",
            "Collecting tensorflow-gpu==1.15.2\n",
            "  Downloading tensorflow_gpu-1.15.2-cp37-cp37m-manylinux2010_x86_64.whl (410.9 MB)\n",
            "\u001b[K     |████████████████████████████████| 410.9 MB 32 kB/s \n",
            "\u001b[?25hRequirement already satisfied: google-pasta>=0.1.6 in /usr/local/lib/python3.7/dist-packages (from tensorflow-gpu==1.15.2) (0.2.0)\n",
            "Requirement already satisfied: termcolor>=1.1.0 in /usr/local/lib/python3.7/dist-packages (from tensorflow-gpu==1.15.2) (1.1.0)\n",
            "Requirement already satisfied: wrapt>=1.11.1 in /usr/local/lib/python3.7/dist-packages (from tensorflow-gpu==1.15.2) (1.13.3)\n",
            "Requirement already satisfied: keras-preprocessing>=1.0.5 in /usr/local/lib/python3.7/dist-packages (from tensorflow-gpu==1.15.2) (1.1.2)\n",
            "Requirement already satisfied: opt-einsum>=2.3.2 in /usr/local/lib/python3.7/dist-packages (from tensorflow-gpu==1.15.2) (3.3.0)\n",
            "Requirement already satisfied: absl-py>=0.7.0 in /usr/local/lib/python3.7/dist-packages (from tensorflow-gpu==1.15.2) (0.12.0)\n",
            "Requirement already satisfied: protobuf>=3.6.1 in /usr/local/lib/python3.7/dist-packages (from tensorflow-gpu==1.15.2) (3.17.3)\n",
            "Requirement already satisfied: astor>=0.6.0 in /usr/local/lib/python3.7/dist-packages (from tensorflow-gpu==1.15.2) (0.8.1)\n",
            "Requirement already satisfied: gast==0.2.2 in /usr/local/lib/python3.7/dist-packages (from tensorflow-gpu==1.15.2) (0.2.2)\n",
            "Requirement already satisfied: keras-applications>=1.0.8 in /usr/local/lib/python3.7/dist-packages (from tensorflow-gpu==1.15.2) (1.0.8)\n",
            "Requirement already satisfied: six>=1.10.0 in /usr/local/lib/python3.7/dist-packages (from tensorflow-gpu==1.15.2) (1.15.0)\n",
            "Requirement already satisfied: grpcio>=1.8.6 in /usr/local/lib/python3.7/dist-packages (from tensorflow-gpu==1.15.2) (1.43.0)\n",
            "Requirement already satisfied: wheel>=0.26 in /usr/local/lib/python3.7/dist-packages (from tensorflow-gpu==1.15.2) (0.37.1)\n",
            "Requirement already satisfied: numpy<2.0,>=1.16.0 in /usr/local/lib/python3.7/dist-packages (from tensorflow-gpu==1.15.2) (1.19.5)\n",
            "Requirement already satisfied: tensorflow-estimator==1.15.1 in /usr/local/lib/python3.7/dist-packages (from tensorflow-gpu==1.15.2) (1.15.1)\n",
            "Requirement already satisfied: tensorboard<1.16.0,>=1.15.0 in /usr/local/lib/python3.7/dist-packages (from tensorflow-gpu==1.15.2) (1.15.0)\n",
            "Requirement already satisfied: h5py in /usr/local/lib/python3.7/dist-packages (from keras-applications>=1.0.8->tensorflow-gpu==1.15.2) (3.1.0)\n",
            "Requirement already satisfied: markdown>=2.6.8 in /usr/local/lib/python3.7/dist-packages (from tensorboard<1.16.0,>=1.15.0->tensorflow-gpu==1.15.2) (3.3.6)\n",
            "Requirement already satisfied: setuptools>=41.0.0 in /usr/local/lib/python3.7/dist-packages (from tensorboard<1.16.0,>=1.15.0->tensorflow-gpu==1.15.2) (57.4.0)\n",
            "Requirement already satisfied: werkzeug>=0.11.15 in /usr/local/lib/python3.7/dist-packages (from tensorboard<1.16.0,>=1.15.0->tensorflow-gpu==1.15.2) (1.0.1)\n",
            "Requirement already satisfied: importlib-metadata>=4.4 in /usr/local/lib/python3.7/dist-packages (from markdown>=2.6.8->tensorboard<1.16.0,>=1.15.0->tensorflow-gpu==1.15.2) (4.10.0)\n",
            "Requirement already satisfied: typing-extensions>=3.6.4 in /usr/local/lib/python3.7/dist-packages (from importlib-metadata>=4.4->markdown>=2.6.8->tensorboard<1.16.0,>=1.15.0->tensorflow-gpu==1.15.2) (3.10.0.2)\n",
            "Requirement already satisfied: zipp>=0.5 in /usr/local/lib/python3.7/dist-packages (from importlib-metadata>=4.4->markdown>=2.6.8->tensorboard<1.16.0,>=1.15.0->tensorflow-gpu==1.15.2) (3.7.0)\n",
            "Requirement already satisfied: cached-property in /usr/local/lib/python3.7/dist-packages (from h5py->keras-applications>=1.0.8->tensorflow-gpu==1.15.2) (1.5.2)\n",
            "Installing collected packages: tensorflow-gpu\n",
            "Successfully installed tensorflow-gpu-1.15.2\n"
          ]
        }
      ]
    },
    {
      "cell_type": "code",
      "source": [
        "!pip install bert-tensorflow\n",
        "!pip install torch==1.5.1\n",
        "!pip install torchvision==0.6.1\n",
        "!pip install transformers==2.11.0"
      ],
      "metadata": {
        "colab": {
          "base_uri": "https://localhost:8080/"
        },
        "id": "fNvXzDUZL4bD",
        "outputId": "1e1d9eef-3572-45fe-f72d-be88b5fbd5b6"
      },
      "execution_count": null,
      "outputs": [
        {
          "output_type": "stream",
          "name": "stdout",
          "text": [
            "Collecting bert-tensorflow\n",
            "  Downloading bert_tensorflow-1.0.4-py2.py3-none-any.whl (64 kB)\n",
            "\u001b[?25l\r\u001b[K     |█████                           | 10 kB 34.6 MB/s eta 0:00:01\r\u001b[K     |██████████▏                     | 20 kB 19.6 MB/s eta 0:00:01\r\u001b[K     |███████████████▎                | 30 kB 10.9 MB/s eta 0:00:01\r\u001b[K     |████████████████████▍           | 40 kB 9.2 MB/s eta 0:00:01\r\u001b[K     |█████████████████████████▍      | 51 kB 7.5 MB/s eta 0:00:01\r\u001b[K     |██████████████████████████████▌ | 61 kB 8.0 MB/s eta 0:00:01\r\u001b[K     |████████████████████████████████| 64 kB 2.4 MB/s \n",
            "\u001b[?25hRequirement already satisfied: six in /usr/local/lib/python3.7/dist-packages (from bert-tensorflow) (1.15.0)\n",
            "Installing collected packages: bert-tensorflow\n",
            "Successfully installed bert-tensorflow-1.0.4\n",
            "Collecting torch==1.5.1\n",
            "  Downloading torch-1.5.1-cp37-cp37m-manylinux1_x86_64.whl (753.2 MB)\n",
            "\u001b[K     |████████████████████████████████| 753.2 MB 13 kB/s \n",
            "\u001b[?25hRequirement already satisfied: future in /usr/local/lib/python3.7/dist-packages (from torch==1.5.1) (0.16.0)\n",
            "Requirement already satisfied: numpy in /usr/local/lib/python3.7/dist-packages (from torch==1.5.1) (1.19.5)\n",
            "Installing collected packages: torch\n",
            "  Attempting uninstall: torch\n",
            "    Found existing installation: torch 1.10.0+cu111\n",
            "    Uninstalling torch-1.10.0+cu111:\n",
            "      Successfully uninstalled torch-1.10.0+cu111\n",
            "\u001b[31mERROR: pip's dependency resolver does not currently take into account all the packages that are installed. This behaviour is the source of the following dependency conflicts.\n",
            "torchvision 0.11.1+cu111 requires torch==1.10.0, but you have torch 1.5.1 which is incompatible.\n",
            "torchtext 0.11.0 requires torch==1.10.0, but you have torch 1.5.1 which is incompatible.\n",
            "torchaudio 0.10.0+cu111 requires torch==1.10.0, but you have torch 1.5.1 which is incompatible.\u001b[0m\n",
            "Successfully installed torch-1.5.1\n",
            "Collecting torchvision==0.6.1\n",
            "  Downloading torchvision-0.6.1-cp37-cp37m-manylinux1_x86_64.whl (6.6 MB)\n",
            "\u001b[K     |████████████████████████████████| 6.6 MB 6.4 MB/s \n",
            "\u001b[?25hRequirement already satisfied: numpy in /usr/local/lib/python3.7/dist-packages (from torchvision==0.6.1) (1.19.5)\n",
            "Requirement already satisfied: pillow>=4.1.1 in /usr/local/lib/python3.7/dist-packages (from torchvision==0.6.1) (7.1.2)\n",
            "Requirement already satisfied: torch==1.5.1 in /usr/local/lib/python3.7/dist-packages (from torchvision==0.6.1) (1.5.1)\n",
            "Requirement already satisfied: future in /usr/local/lib/python3.7/dist-packages (from torch==1.5.1->torchvision==0.6.1) (0.16.0)\n",
            "Installing collected packages: torchvision\n",
            "  Attempting uninstall: torchvision\n",
            "    Found existing installation: torchvision 0.11.1+cu111\n",
            "    Uninstalling torchvision-0.11.1+cu111:\n",
            "      Successfully uninstalled torchvision-0.11.1+cu111\n",
            "Successfully installed torchvision-0.6.1\n",
            "Collecting transformers==2.11.0\n",
            "  Downloading transformers-2.11.0-py3-none-any.whl (674 kB)\n",
            "\u001b[K     |████████████████████████████████| 674 kB 9.7 MB/s \n",
            "\u001b[?25hRequirement already satisfied: tqdm>=4.27 in /usr/local/lib/python3.7/dist-packages (from transformers==2.11.0) (4.62.3)\n",
            "Requirement already satisfied: regex!=2019.12.17 in /usr/local/lib/python3.7/dist-packages (from transformers==2.11.0) (2019.12.20)\n",
            "Requirement already satisfied: requests in /usr/local/lib/python3.7/dist-packages (from transformers==2.11.0) (2.23.0)\n",
            "Collecting tokenizers==0.7.0\n",
            "  Downloading tokenizers-0.7.0-cp37-cp37m-manylinux1_x86_64.whl (5.6 MB)\n",
            "\u001b[K     |████████████████████████████████| 5.6 MB 29.2 MB/s \n",
            "\u001b[?25hRequirement already satisfied: numpy in /usr/local/lib/python3.7/dist-packages (from transformers==2.11.0) (1.19.5)\n",
            "Collecting sacremoses\n",
            "  Downloading sacremoses-0.0.47-py2.py3-none-any.whl (895 kB)\n",
            "\u001b[K     |████████████████████████████████| 895 kB 61.5 MB/s \n",
            "\u001b[?25hRequirement already satisfied: packaging in /usr/local/lib/python3.7/dist-packages (from transformers==2.11.0) (21.3)\n",
            "Requirement already satisfied: filelock in /usr/local/lib/python3.7/dist-packages (from transformers==2.11.0) (3.4.2)\n",
            "Collecting sentencepiece\n",
            "  Downloading sentencepiece-0.1.96-cp37-cp37m-manylinux_2_17_x86_64.manylinux2014_x86_64.whl (1.2 MB)\n",
            "\u001b[K     |████████████████████████████████| 1.2 MB 69.2 MB/s \n",
            "\u001b[?25hRequirement already satisfied: pyparsing!=3.0.5,>=2.0.2 in /usr/local/lib/python3.7/dist-packages (from packaging->transformers==2.11.0) (3.0.6)\n",
            "Requirement already satisfied: idna<3,>=2.5 in /usr/local/lib/python3.7/dist-packages (from requests->transformers==2.11.0) (2.10)\n",
            "Requirement already satisfied: urllib3!=1.25.0,!=1.25.1,<1.26,>=1.21.1 in /usr/local/lib/python3.7/dist-packages (from requests->transformers==2.11.0) (1.24.3)\n",
            "Requirement already satisfied: certifi>=2017.4.17 in /usr/local/lib/python3.7/dist-packages (from requests->transformers==2.11.0) (2021.10.8)\n",
            "Requirement already satisfied: chardet<4,>=3.0.2 in /usr/local/lib/python3.7/dist-packages (from requests->transformers==2.11.0) (3.0.4)\n",
            "Requirement already satisfied: six in /usr/local/lib/python3.7/dist-packages (from sacremoses->transformers==2.11.0) (1.15.0)\n",
            "Requirement already satisfied: click in /usr/local/lib/python3.7/dist-packages (from sacremoses->transformers==2.11.0) (7.1.2)\n",
            "Requirement already satisfied: joblib in /usr/local/lib/python3.7/dist-packages (from sacremoses->transformers==2.11.0) (1.1.0)\n",
            "Installing collected packages: tokenizers, sentencepiece, sacremoses, transformers\n",
            "Successfully installed sacremoses-0.0.47 sentencepiece-0.1.96 tokenizers-0.7.0 transformers-2.11.0\n"
          ]
        }
      ]
    },
    {
      "cell_type": "code",
      "source": [
        "%tensorflow_version 1.x"
      ],
      "metadata": {
        "id": "UXSLTkGsMp4Z",
        "colab": {
          "base_uri": "https://localhost:8080/"
        },
        "outputId": "d208d571-1a39-439d-f23c-9f63ea8d5b9e"
      },
      "execution_count": null,
      "outputs": [
        {
          "output_type": "stream",
          "name": "stdout",
          "text": [
            "TensorFlow 1.x selected.\n"
          ]
        }
      ]
    },
    {
      "cell_type": "code",
      "source": [
        "import tensorflow\n",
        "print(tensorflow.__version__)"
      ],
      "metadata": {
        "colab": {
          "base_uri": "https://localhost:8080/"
        },
        "id": "0wULzPfvMtpZ",
        "outputId": "fe80f481-44e3-4da5-d95b-34775b00723a"
      },
      "execution_count": null,
      "outputs": [
        {
          "output_type": "stream",
          "name": "stdout",
          "text": [
            "1.15.2\n"
          ]
        }
      ]
    },
    {
      "cell_type": "code",
      "source": [
        "import transformers\n",
        "print(transformers.__version__)"
      ],
      "metadata": {
        "colab": {
          "base_uri": "https://localhost:8080/"
        },
        "id": "51QKJlGOM1UI",
        "outputId": "fabe4527-5205-4d63-dc5b-2adb62238a9d"
      },
      "execution_count": null,
      "outputs": [
        {
          "output_type": "stream",
          "name": "stdout",
          "text": [
            "2.11.0\n"
          ]
        }
      ]
    },
    {
      "cell_type": "code",
      "source": [
        "import torchvision\n",
        "print(torchvision.__version__)"
      ],
      "metadata": {
        "colab": {
          "base_uri": "https://localhost:8080/"
        },
        "id": "rQdRL5YjOIJo",
        "outputId": "f89a455a-b733-454e-ca42-ea15ae005adf"
      },
      "execution_count": null,
      "outputs": [
        {
          "output_type": "stream",
          "name": "stdout",
          "text": [
            "0.6.1\n"
          ]
        }
      ]
    },
    {
      "cell_type": "code",
      "source": [
        "import torch\n",
        "print(torch.__version__)"
      ],
      "metadata": {
        "colab": {
          "base_uri": "https://localhost:8080/"
        },
        "id": "CdIznT5xONp3",
        "outputId": "f3ff7a54-1862-41f7-e1ea-2af7d1e6ef28"
      },
      "execution_count": null,
      "outputs": [
        {
          "output_type": "stream",
          "name": "stdout",
          "text": [
            "1.5.1\n"
          ]
        }
      ]
    },
    {
      "cell_type": "code",
      "execution_count": null,
      "metadata": {
        "colab": {
          "base_uri": "https://localhost:8080/"
        },
        "id": "i5qJEOmeXN6b",
        "outputId": "9c5e9116-d288-4f7f-9eaa-545bc62f4d00"
      },
      "outputs": [
        {
          "output_type": "stream",
          "name": "stderr",
          "text": [
            "/usr/local/lib/python3.7/dist-packages/ipykernel_launcher.py:7: FutureWarning: Passing a negative integer is deprecated in version 1.0 and will not be supported in future version. Instead, use None to not limit the column width.\n",
            "  import sys\n"
          ]
        }
      ],
      "source": [
        "import sys\n",
        "import numpy as np\n",
        "import pandas as pd\n",
        "import sklearn\n",
        "\n",
        "sys.path.append(\"..\")\n",
        "pd.set_option('display.max_colwidth', -1)"
      ]
    },
    {
      "cell_type": "code",
      "execution_count": null,
      "metadata": {
        "colab": {
          "base_uri": "https://localhost:8080/"
        },
        "id": "eMAZi12OXN6c",
        "outputId": "4e1ecda1-53c2-4312-8f22-3337fa570ca4"
      },
      "outputs": [
        {
          "output_type": "execute_result",
          "data": {
            "text/plain": [
              "((6657, 3), (1665, 2), (666, 3))"
            ]
          },
          "metadata": {},
          "execution_count": 94
        }
      ],
      "source": [
        "df_train = pd.read_csv('../content/train.csv')\n",
        "df_test = pd.read_csv('../content/test.csv')\n",
        "df_score = pd.read_csv('../content/test_with_label.csv')\n",
        "df_val = pd.read_csv('../content/dev.csv')\n",
        "df_train.shape, df_test.shape, df_val.shape"
      ]
    },
    {
      "cell_type": "code",
      "source": [
        "df_train.label.unique()"
      ],
      "metadata": {
        "colab": {
          "base_uri": "https://localhost:8080/"
        },
        "id": "4shG2pprOuas",
        "outputId": "525a949d-560b-4480-b85d-f923139b4f5e"
      },
      "execution_count": null,
      "outputs": [
        {
          "output_type": "execute_result",
          "data": {
            "text/plain": [
              "array([0, 2, 1])"
            ]
          },
          "metadata": {},
          "execution_count": 11
        }
      ]
    },
    {
      "cell_type": "code",
      "source": [
        "df_score.label.unique()"
      ],
      "metadata": {
        "colab": {
          "base_uri": "https://localhost:8080/"
        },
        "id": "9oS07CedWzLE",
        "outputId": "4e0b01b7-6bca-4a5b-a7ae-4e0e2bbbe685"
      },
      "execution_count": null,
      "outputs": [
        {
          "output_type": "execute_result",
          "data": {
            "text/plain": [
              "array([0, 1, 2])"
            ]
          },
          "metadata": {},
          "execution_count": 12
        }
      ]
    },
    {
      "cell_type": "code",
      "source": [
        "df_val.label.unique()"
      ],
      "metadata": {
        "colab": {
          "base_uri": "https://localhost:8080/"
        },
        "id": "GWAaIPrAW5C2",
        "outputId": "43c20ab6-138b-4c67-c5fb-e0e754090859"
      },
      "execution_count": null,
      "outputs": [
        {
          "output_type": "execute_result",
          "data": {
            "text/plain": [
              "array([0, 1, 2])"
            ]
          },
          "metadata": {},
          "execution_count": 13
        }
      ]
    },
    {
      "cell_type": "code",
      "execution_count": null,
      "metadata": {
        "colab": {
          "base_uri": "https://localhost:8080/"
        },
        "id": "mBEYUkNgXN6d",
        "outputId": "3b8483f3-d974-4b74-b392-e0e633c92ee8"
      },
      "outputs": [
        {
          "output_type": "execute_result",
          "data": {
            "text/plain": [
              "0    3053\n",
              "1    2117\n",
              "2    1487\n",
              "Name: label, dtype: int64"
            ]
          },
          "metadata": {},
          "execution_count": 14
        }
      ],
      "source": [
        "df_train.label.value_counts()"
      ]
    },
    {
      "cell_type": "code",
      "execution_count": null,
      "metadata": {
        "colab": {
          "base_uri": "https://localhost:8080/"
        },
        "id": "Pz91zusVXN6e",
        "outputId": "f471c13a-cba5-4076-fafa-7561edbfa266"
      },
      "outputs": [
        {
          "output_type": "execute_result",
          "data": {
            "text/plain": [
              "0    305\n",
              "1    212\n",
              "2    149\n",
              "Name: label, dtype: int64"
            ]
          },
          "metadata": {},
          "execution_count": 15
        }
      ],
      "source": [
        "df_val.label.value_counts()"
      ]
    },
    {
      "cell_type": "code",
      "execution_count": null,
      "metadata": {
        "colab": {
          "base_uri": "https://localhost:8080/"
        },
        "id": "nTV79d7JXN6f",
        "outputId": "b7309313-5c2f-4824-cf54-40f4e465de1a"
      },
      "outputs": [
        {
          "output_type": "execute_result",
          "data": {
            "text/plain": [
              "0    764\n",
              "1    529\n",
              "2    372\n",
              "Name: label, dtype: int64"
            ]
          },
          "metadata": {},
          "execution_count": 95
        }
      ],
      "source": [
        "df_score.label.value_counts()"
      ]
    },
    {
      "cell_type": "code",
      "source": [
        "df_test.shape"
      ],
      "metadata": {
        "colab": {
          "base_uri": "https://localhost:8080/"
        },
        "id": "zu0dRR5FuLA-",
        "outputId": "833d01e0-c17c-4bbe-d7cd-cad57cc0e562"
      },
      "execution_count": null,
      "outputs": [
        {
          "output_type": "execute_result",
          "data": {
            "text/plain": [
              "(1665, 2)"
            ]
          },
          "metadata": {},
          "execution_count": 96
        }
      ]
    },
    {
      "cell_type": "markdown",
      "metadata": {
        "id": "X_6pEjDJXN6f"
      },
      "source": [
        "## Training Transformers (Albert DistilBert) classifier with FrameWork"
      ]
    },
    {
      "cell_type": "code",
      "source": [
        "!pip install classitransformers"
      ],
      "metadata": {
        "colab": {
          "base_uri": "https://localhost:8080/"
        },
        "id": "l9j8c3roYDF_",
        "outputId": "bed18b52-67f5-4589-ae0f-36d67ee54e41"
      },
      "execution_count": null,
      "outputs": [
        {
          "output_type": "stream",
          "name": "stdout",
          "text": [
            "Collecting classitransformers\n",
            "  Downloading classitransformers-0.0.1-py3-none-any.whl (51 kB)\n",
            "\u001b[?25l\r\u001b[K     |██████▎                         | 10 kB 40.4 MB/s eta 0:00:01\r\u001b[K     |████████████▋                   | 20 kB 35.1 MB/s eta 0:00:01\r\u001b[K     |███████████████████             | 30 kB 19.9 MB/s eta 0:00:01\r\u001b[K     |█████████████████████████▎      | 40 kB 16.6 MB/s eta 0:00:01\r\u001b[K     |███████████████████████████████▋| 51 kB 10.1 MB/s eta 0:00:01\r\u001b[K     |████████████████████████████████| 51 kB 679 kB/s \n",
            "\u001b[?25hCollecting wget\n",
            "  Downloading wget-3.2.zip (10 kB)\n",
            "Requirement already satisfied: torchvision==0.6.1 in /usr/local/lib/python3.7/dist-packages (from classitransformers) (0.6.1)\n",
            "Requirement already satisfied: tensorflow-gpu==1.15.2 in /usr/local/lib/python3.7/dist-packages (from classitransformers) (1.15.2)\n",
            "Requirement already satisfied: bert-tensorflow in /usr/local/lib/python3.7/dist-packages (from classitransformers) (1.0.4)\n",
            "Requirement already satisfied: transformers==2.11.0 in /usr/local/lib/python3.7/dist-packages (from classitransformers) (2.11.0)\n",
            "Requirement already satisfied: torch==1.5.1 in /usr/local/lib/python3.7/dist-packages (from classitransformers) (1.5.1)\n",
            "Requirement already satisfied: six>=1.10.0 in /usr/local/lib/python3.7/dist-packages (from tensorflow-gpu==1.15.2->classitransformers) (1.15.0)\n",
            "Requirement already satisfied: termcolor>=1.1.0 in /usr/local/lib/python3.7/dist-packages (from tensorflow-gpu==1.15.2->classitransformers) (1.1.0)\n",
            "Requirement already satisfied: protobuf>=3.6.1 in /usr/local/lib/python3.7/dist-packages (from tensorflow-gpu==1.15.2->classitransformers) (3.17.3)\n",
            "Requirement already satisfied: keras-preprocessing>=1.0.5 in /usr/local/lib/python3.7/dist-packages (from tensorflow-gpu==1.15.2->classitransformers) (1.1.2)\n",
            "Requirement already satisfied: absl-py>=0.7.0 in /usr/local/lib/python3.7/dist-packages (from tensorflow-gpu==1.15.2->classitransformers) (0.12.0)\n",
            "Requirement already satisfied: tensorboard<1.16.0,>=1.15.0 in /tensorflow-1.15.2/python3.7 (from tensorflow-gpu==1.15.2->classitransformers) (1.15.0)\n",
            "Requirement already satisfied: google-pasta>=0.1.6 in /usr/local/lib/python3.7/dist-packages (from tensorflow-gpu==1.15.2->classitransformers) (0.2.0)\n",
            "Requirement already satisfied: gast==0.2.2 in /usr/local/lib/python3.7/dist-packages (from tensorflow-gpu==1.15.2->classitransformers) (0.2.2)\n",
            "Requirement already satisfied: astor>=0.6.0 in /usr/local/lib/python3.7/dist-packages (from tensorflow-gpu==1.15.2->classitransformers) (0.8.1)\n",
            "Requirement already satisfied: tensorflow-estimator==1.15.1 in /tensorflow-1.15.2/python3.7 (from tensorflow-gpu==1.15.2->classitransformers) (1.15.1)\n",
            "Requirement already satisfied: wheel>=0.26 in /usr/local/lib/python3.7/dist-packages (from tensorflow-gpu==1.15.2->classitransformers) (0.37.1)\n",
            "Requirement already satisfied: opt-einsum>=2.3.2 in /usr/local/lib/python3.7/dist-packages (from tensorflow-gpu==1.15.2->classitransformers) (3.3.0)\n",
            "Requirement already satisfied: grpcio>=1.8.6 in /usr/local/lib/python3.7/dist-packages (from tensorflow-gpu==1.15.2->classitransformers) (1.43.0)\n",
            "Requirement already satisfied: wrapt>=1.11.1 in /usr/local/lib/python3.7/dist-packages (from tensorflow-gpu==1.15.2->classitransformers) (1.13.3)\n",
            "Requirement already satisfied: numpy<2.0,>=1.16.0 in /usr/local/lib/python3.7/dist-packages (from tensorflow-gpu==1.15.2->classitransformers) (1.19.5)\n",
            "Requirement already satisfied: keras-applications>=1.0.8 in /tensorflow-1.15.2/python3.7 (from tensorflow-gpu==1.15.2->classitransformers) (1.0.8)\n",
            "Requirement already satisfied: future in /usr/local/lib/python3.7/dist-packages (from torch==1.5.1->classitransformers) (0.16.0)\n",
            "Requirement already satisfied: pillow>=4.1.1 in /usr/local/lib/python3.7/dist-packages (from torchvision==0.6.1->classitransformers) (7.1.2)\n",
            "Requirement already satisfied: tokenizers==0.7.0 in /usr/local/lib/python3.7/dist-packages (from transformers==2.11.0->classitransformers) (0.7.0)\n",
            "Requirement already satisfied: tqdm>=4.27 in /usr/local/lib/python3.7/dist-packages (from transformers==2.11.0->classitransformers) (4.62.3)\n",
            "Requirement already satisfied: sacremoses in /usr/local/lib/python3.7/dist-packages (from transformers==2.11.0->classitransformers) (0.0.47)\n",
            "Requirement already satisfied: regex!=2019.12.17 in /usr/local/lib/python3.7/dist-packages (from transformers==2.11.0->classitransformers) (2019.12.20)\n",
            "Requirement already satisfied: packaging in /usr/local/lib/python3.7/dist-packages (from transformers==2.11.0->classitransformers) (21.3)\n",
            "Requirement already satisfied: requests in /usr/local/lib/python3.7/dist-packages (from transformers==2.11.0->classitransformers) (2.23.0)\n",
            "Requirement already satisfied: sentencepiece in /usr/local/lib/python3.7/dist-packages (from transformers==2.11.0->classitransformers) (0.1.96)\n",
            "Requirement already satisfied: filelock in /usr/local/lib/python3.7/dist-packages (from transformers==2.11.0->classitransformers) (3.4.2)\n",
            "Requirement already satisfied: h5py in /usr/local/lib/python3.7/dist-packages (from keras-applications>=1.0.8->tensorflow-gpu==1.15.2->classitransformers) (3.1.0)\n",
            "Requirement already satisfied: setuptools>=41.0.0 in /usr/local/lib/python3.7/dist-packages (from tensorboard<1.16.0,>=1.15.0->tensorflow-gpu==1.15.2->classitransformers) (57.4.0)\n",
            "Requirement already satisfied: markdown>=2.6.8 in /usr/local/lib/python3.7/dist-packages (from tensorboard<1.16.0,>=1.15.0->tensorflow-gpu==1.15.2->classitransformers) (3.3.6)\n",
            "Requirement already satisfied: werkzeug>=0.11.15 in /usr/local/lib/python3.7/dist-packages (from tensorboard<1.16.0,>=1.15.0->tensorflow-gpu==1.15.2->classitransformers) (1.0.1)\n",
            "Requirement already satisfied: importlib-metadata>=4.4 in /usr/local/lib/python3.7/dist-packages (from markdown>=2.6.8->tensorboard<1.16.0,>=1.15.0->tensorflow-gpu==1.15.2->classitransformers) (4.10.0)\n",
            "Requirement already satisfied: zipp>=0.5 in /usr/local/lib/python3.7/dist-packages (from importlib-metadata>=4.4->markdown>=2.6.8->tensorboard<1.16.0,>=1.15.0->tensorflow-gpu==1.15.2->classitransformers) (3.7.0)\n",
            "Requirement already satisfied: typing-extensions>=3.6.4 in /usr/local/lib/python3.7/dist-packages (from importlib-metadata>=4.4->markdown>=2.6.8->tensorboard<1.16.0,>=1.15.0->tensorflow-gpu==1.15.2->classitransformers) (3.10.0.2)\n",
            "Requirement already satisfied: cached-property in /usr/local/lib/python3.7/dist-packages (from h5py->keras-applications>=1.0.8->tensorflow-gpu==1.15.2->classitransformers) (1.5.2)\n",
            "Requirement already satisfied: pyparsing!=3.0.5,>=2.0.2 in /usr/local/lib/python3.7/dist-packages (from packaging->transformers==2.11.0->classitransformers) (3.0.6)\n",
            "Requirement already satisfied: chardet<4,>=3.0.2 in /usr/local/lib/python3.7/dist-packages (from requests->transformers==2.11.0->classitransformers) (3.0.4)\n",
            "Requirement already satisfied: idna<3,>=2.5 in /usr/local/lib/python3.7/dist-packages (from requests->transformers==2.11.0->classitransformers) (2.10)\n",
            "Requirement already satisfied: urllib3!=1.25.0,!=1.25.1,<1.26,>=1.21.1 in /usr/local/lib/python3.7/dist-packages (from requests->transformers==2.11.0->classitransformers) (1.24.3)\n",
            "Requirement already satisfied: certifi>=2017.4.17 in /usr/local/lib/python3.7/dist-packages (from requests->transformers==2.11.0->classitransformers) (2021.10.8)\n",
            "Requirement already satisfied: joblib in /usr/local/lib/python3.7/dist-packages (from sacremoses->transformers==2.11.0->classitransformers) (1.1.0)\n",
            "Requirement already satisfied: click in /usr/local/lib/python3.7/dist-packages (from sacremoses->transformers==2.11.0->classitransformers) (7.1.2)\n",
            "Building wheels for collected packages: wget\n",
            "  Building wheel for wget (setup.py) ... \u001b[?25l\u001b[?25hdone\n",
            "  Created wheel for wget: filename=wget-3.2-py3-none-any.whl size=9675 sha256=806601bf9ad18c373933ebcaaf6fa37a8c8778e9453b8ec99a2ecedc57d5aa19\n",
            "  Stored in directory: /root/.cache/pip/wheels/a1/b6/7c/0e63e34eb06634181c63adacca38b79ff8f35c37e3c13e3c02\n",
            "Successfully built wget\n",
            "Installing collected packages: wget, classitransformers\n",
            "Successfully installed classitransformers-0.0.1 wget-3.2\n"
          ]
        }
      ]
    },
    {
      "cell_type": "code",
      "execution_count": null,
      "metadata": {
        "id": "maFJu54RXN6g"
      },
      "outputs": [],
      "source": [
        "from classitransformers.report import metrics\n",
        "from classitransformers.configs import Configs\n",
        "from classitransformers.pytransformers import TransformersClassification"
      ]
    },
    {
      "cell_type": "code",
      "source": [
        "from classitransformers.downloader import downloader"
      ],
      "metadata": {
        "id": "4SRAufFMlCWA"
      },
      "execution_count": null,
      "outputs": []
    },
    {
      "cell_type": "code",
      "source": [
        "downloader('distilbert')"
      ],
      "metadata": {
        "colab": {
          "base_uri": "https://localhost:8080/"
        },
        "id": "cSTqz9qilGMh",
        "outputId": "3dac9723-7c00-43c0-cac8-c01224a84a47"
      },
      "execution_count": null,
      "outputs": [
        {
          "output_type": "stream",
          "name": "stdout",
          "text": [
            "Model gets downloaded here:  ../models/DistilBert\n"
          ]
        }
      ]
    },
    {
      "cell_type": "markdown",
      "metadata": {
        "id": "SBjpRK0BXN6h"
      },
      "source": [
        "## Set Configurations\n",
        "\n",
        "* Pre-trained folderpath\n",
        "* labels list\n",
        "* train, test and eval batch size\n",
        "* max_seq_len - how long is the each text input sentence !!\n",
        "* data_dir - data path folder (optional)\n",
        "* output_dir - output path folder (optional)"
      ]
    },
    {
      "cell_type": "code",
      "execution_count": null,
      "metadata": {
        "id": "Tqn-RaPdXN6h"
      },
      "outputs": [],
      "source": [
        "# config = Configs(\n",
        "#                 pretrained_model_dir = '../models/DistilBert',\n",
        "#                 model_name = 'distilbert',\n",
        "#                 num_train_epochs=3,\n",
        "#                 train_batch_size = 16,\n",
        "#                 eval_batch_size = 8, \n",
        "#                 do_train = True, \n",
        "#                 do_eval = True,\n",
        "#                 max_seq_length = 128,\n",
        "#                 label_list = [0,1,2],\n",
        "#                 data_dir = '../content',\n",
        "#                 output_dir = '../transformers_output_secfiling/')\n",
        "\n",
        "config = Configs(\n",
        "                # pretrained_model_dir = '../models/Albert',\n",
        "                pretrained_model_dir = '../transformers_output_secfiling/', #for testing\n",
        "                model_name = 'distilbert', \n",
        "                num_train_epochs=3,\n",
        "                train_batch_size = 16,\n",
        "                eval_batch_size = 8, \n",
        "                #  do_train = True, \n",
        "                do_train = False, # for testing\n",
        "                do_eval = True,\n",
        "                max_seq_length = 128,\n",
        "                label_list = [0,1,2],\n",
        "                data_dir = '../content'\n",
        "                # output_dir = '../transformers_output_secfiling/'\n",
        "                )\n"
      ]
    },
    {
      "cell_type": "code",
      "execution_count": null,
      "metadata": {
        "id": "CMd05UdEXN6i"
      },
      "outputs": [],
      "source": [
        "model = TransformersClassification(config)"
      ]
    },
    {
      "cell_type": "code",
      "source": [
        "config2 = Configs(\n",
        "                # pretrained_model_dir = '../models/DistilBert',\n",
        "                pretrained_model_dir = '../transformers_output_secfiling/', #for testing\n",
        "                model_name = 'distilbert', \n",
        "                num_train_epochs=3,\n",
        "                train_batch_size = 16,\n",
        "                eval_batch_size = 8, \n",
        "                #  do_train = True, \n",
        "                do_train = False, # for testing\n",
        "                do_eval = True,\n",
        "                max_seq_length = 128,\n",
        "                learning_rate = 5e-5,\n",
        "                label_list = [0,1,2],\n",
        "                data_dir = '../content',\n",
        "                # output_dir = '../transformers_output_secfiling/'\n",
        "                )\n",
        "\n",
        "# config2 = Configs(\n",
        "#                 pretrained_model_dir = '../models/DistilBert',                \n",
        "#                 model_name = 'distilbert', \n",
        "#                 num_train_epochs=3,\n",
        "#                 train_batch_size = 16,\n",
        "#                 eval_batch_size = 8, \n",
        "#                  do_train = True,                \n",
        "#                 do_eval = True,\n",
        "#                 max_seq_length = 128,\n",
        "#                 learning_rate = 5e-5,\n",
        "#                 label_list = [0,1,2],\n",
        "#                 data_dir = '../content',\n",
        "#                 output_dir = '../transformers_output_secfiling/'\n",
        "#                 )\n",
        "                 "
      ],
      "metadata": {
        "id": "IHnPr2OD1uxe"
      },
      "execution_count": null,
      "outputs": []
    },
    {
      "cell_type": "code",
      "source": [
        "model2 = TransformersClassification(config2)"
      ],
      "metadata": {
        "id": "sWxyCx9p14eB"
      },
      "execution_count": null,
      "outputs": []
    },
    {
      "cell_type": "markdown",
      "metadata": {
        "id": "4iZiLcuzXN6j"
      },
      "source": [
        "## Train Method"
      ]
    },
    {
      "cell_type": "code",
      "execution_count": null,
      "metadata": {
        "scrolled": true,
        "colab": {
          "base_uri": "https://localhost:8080/"
        },
        "id": "llVBMclSXN6j",
        "outputId": "d683c218-8b4a-46ca-a8a6-e2d4910001ea"
      },
      "outputs": [
        {
          "output_type": "stream",
          "name": "stdout",
          "text": [
            "\n",
            "======== Epoch 1 / 3 ========\n",
            "Training...\n",
            "  Batch    40  of    417.    Elapsed: 0:00:04.\n",
            "  Batch    80  of    417.    Elapsed: 0:00:08.\n",
            "  Batch   120  of    417.    Elapsed: 0:00:13.\n",
            "  Batch   160  of    417.    Elapsed: 0:00:17.\n",
            "  Batch   200  of    417.    Elapsed: 0:00:21.\n",
            "  Batch   240  of    417.    Elapsed: 0:00:25.\n",
            "  Batch   280  of    417.    Elapsed: 0:00:30.\n",
            "  Batch   320  of    417.    Elapsed: 0:00:34.\n",
            "  Batch   360  of    417.    Elapsed: 0:00:38.\n",
            "  Batch   400  of    417.    Elapsed: 0:00:42.\n",
            "\n",
            "  Average training loss: 0.07\n",
            "  Training epcoh took: 0:00:44\n",
            "\n",
            "Running Validation...\n",
            "  Accuracy: 0.99\n",
            "  Validation Loss: 0.00\n",
            "  Validation took: 0:00:01\n",
            "\n",
            "======== Epoch 2 / 3 ========\n",
            "Training...\n",
            "  Batch    40  of    417.    Elapsed: 0:00:04.\n",
            "  Batch    80  of    417.    Elapsed: 0:00:08.\n",
            "  Batch   120  of    417.    Elapsed: 0:00:13.\n",
            "  Batch   160  of    417.    Elapsed: 0:00:17.\n",
            "  Batch   200  of    417.    Elapsed: 0:00:21.\n",
            "  Batch   240  of    417.    Elapsed: 0:00:25.\n",
            "  Batch   280  of    417.    Elapsed: 0:00:30.\n",
            "  Batch   320  of    417.    Elapsed: 0:00:34.\n",
            "  Batch   360  of    417.    Elapsed: 0:00:38.\n",
            "  Batch   400  of    417.    Elapsed: 0:00:42.\n",
            "\n",
            "  Average training loss: 0.03\n",
            "  Training epcoh took: 0:00:44\n",
            "\n",
            "Running Validation...\n",
            "  Accuracy: 0.99\n",
            "  Validation Loss: 0.00\n",
            "  Validation took: 0:00:01\n",
            "\n",
            "======== Epoch 3 / 3 ========\n",
            "Training...\n",
            "  Batch    40  of    417.    Elapsed: 0:00:04.\n",
            "  Batch    80  of    417.    Elapsed: 0:00:08.\n",
            "  Batch   120  of    417.    Elapsed: 0:00:13.\n",
            "  Batch   160  of    417.    Elapsed: 0:00:17.\n",
            "  Batch   200  of    417.    Elapsed: 0:00:21.\n",
            "  Batch   240  of    417.    Elapsed: 0:00:25.\n",
            "  Batch   280  of    417.    Elapsed: 0:00:30.\n",
            "  Batch   320  of    417.    Elapsed: 0:00:34.\n",
            "  Batch   360  of    417.    Elapsed: 0:00:38.\n",
            "  Batch   400  of    417.    Elapsed: 0:00:42.\n",
            "\n",
            "  Average training loss: 0.01\n",
            "  Training epcoh took: 0:00:44\n",
            "\n",
            "Running Validation...\n",
            "  Accuracy: 1.00\n",
            "  Validation Loss: 0.00\n",
            "  Validation took: 0:00:01\n",
            "Saving model to ./albert_output/\n",
            "\n",
            "Training complete!\n",
            "Total training took 0:02:17 (h:mm:ss)\n"
          ]
        }
      ],
      "source": [
        "model.train()"
      ]
    },
    {
      "cell_type": "markdown",
      "metadata": {
        "id": "-uEq6MU8XN6j"
      },
      "source": [
        "## Test Method"
      ]
    },
    {
      "cell_type": "code",
      "execution_count": null,
      "metadata": {
        "id": "OjtXN_MAXN6k"
      },
      "outputs": [],
      "source": [
        "prediction = model.test()"
      ]
    },
    {
      "cell_type": "markdown",
      "metadata": {
        "id": "Yj3b2LgYXN6k"
      },
      "source": [
        "**Testing a sentence, takes a list of sentences.**"
      ]
    },
    {
      "cell_type": "code",
      "execution_count": null,
      "metadata": {
        "colab": {
          "base_uri": "https://localhost:8080/"
        },
        "id": "UJfJlyGhXN6k",
        "outputId": "2b14d6ce-9530-4a1c-ac6b-8c9316cb1de1"
      },
      "outputs": [
        {
          "output_type": "execute_result",
          "data": {
            "text/plain": [
              "[array([0.9946366 , 0.02816704, 0.05836164], dtype=float32)]"
            ]
          },
          "metadata": {},
          "execution_count": 36
        }
      ],
      "source": [
        "model.text_inference(['He is very good in writing a book on financial investment money making strategy. There are some transactional charges but the profit we make is awesome. The business people are exchanging bulk money over trades happening every seconds. Even retailers are happy doing trade and adding sum to their investments.'])"
      ]
    },
    {
      "cell_type": "code",
      "execution_count": null,
      "metadata": {
        "id": "OxTY75s4XN6l"
      },
      "outputs": [],
      "source": [
        "y_pred = [np.argmax(tup) for tup in prediction]\n",
        "y = df_score.label"
      ]
    },
    {
      "cell_type": "markdown",
      "metadata": {
        "id": "1iBP7I2DXN6l"
      },
      "source": [
        "## Accuracy and Report"
      ]
    },
    {
      "cell_type": "code",
      "execution_count": null,
      "metadata": {
        "colab": {
          "base_uri": "https://localhost:8080/",
          "height": 415
        },
        "id": "LZu6lon1XN6l",
        "outputId": "919d73d9-44da-45dc-a84f-1f484cad938b"
      },
      "outputs": [
        {
          "output_type": "stream",
          "name": "stdout",
          "text": [
            "\n",
            "\n",
            "Accuracy: 0.920\n",
            "Precision: 0.922\n",
            "Recall: 0.914\n",
            "F1-Score: 0.918\n"
          ]
        },
        {
          "output_type": "display_data",
          "data": {
            "image/png": "[encoded data removed]",
            "text/plain": [
              "<Figure size 432x288 with 2 Axes>"
            ]
          },
          "metadata": {
            "needs_background": "light"
          }
        }
      ],
      "source": [
        "metrics(y, y_pred)"
      ]
    },
    {
      "cell_type": "markdown",
      "source": [
        "Model 2\n"
      ],
      "metadata": {
        "id": "lAWqA9rX195d"
      }
    },
    {
      "cell_type": "code",
      "source": [
        "model2.train()"
      ],
      "metadata": {
        "colab": {
          "base_uri": "https://localhost:8080/"
        },
        "id": "q5Oh81Wm1Hzi",
        "outputId": "f3d9bf08-df94-48eb-d0b6-6d6605669d5b"
      },
      "execution_count": null,
      "outputs": [
        {
          "output_type": "stream",
          "name": "stdout",
          "text": [
            "\n",
            "======== Epoch 1 / 3 ========\n",
            "Training...\n",
            "  Batch    40  of    417.    Elapsed: 0:00:04.\n",
            "  Batch    80  of    417.    Elapsed: 0:00:08.\n",
            "  Batch   120  of    417.    Elapsed: 0:00:13.\n",
            "  Batch   160  of    417.    Elapsed: 0:00:17.\n",
            "  Batch   200  of    417.    Elapsed: 0:00:21.\n",
            "  Batch   240  of    417.    Elapsed: 0:00:25.\n",
            "  Batch   280  of    417.    Elapsed: 0:00:30.\n",
            "  Batch   320  of    417.    Elapsed: 0:00:34.\n",
            "  Batch   360  of    417.    Elapsed: 0:00:38.\n",
            "  Batch   400  of    417.    Elapsed: 0:00:42.\n",
            "\n",
            "  Average training loss: 0.06\n",
            "  Training epcoh took: 0:00:44\n",
            "\n",
            "Running Validation...\n",
            "  Accuracy: 0.99\n",
            "  Validation Loss: 0.00\n",
            "  Validation took: 0:00:01\n",
            "\n",
            "======== Epoch 2 / 3 ========\n",
            "Training...\n",
            "  Batch    40  of    417.    Elapsed: 0:00:04.\n",
            "  Batch    80  of    417.    Elapsed: 0:00:08.\n",
            "  Batch   120  of    417.    Elapsed: 0:00:13.\n",
            "  Batch   160  of    417.    Elapsed: 0:00:17.\n",
            "  Batch   200  of    417.    Elapsed: 0:00:21.\n",
            "  Batch   240  of    417.    Elapsed: 0:00:25.\n",
            "  Batch   280  of    417.    Elapsed: 0:00:30.\n",
            "  Batch   320  of    417.    Elapsed: 0:00:34.\n",
            "  Batch   360  of    417.    Elapsed: 0:00:38.\n",
            "  Batch   400  of    417.    Elapsed: 0:00:42.\n",
            "\n",
            "  Average training loss: 0.03\n",
            "  Training epcoh took: 0:00:44\n",
            "\n",
            "Running Validation...\n",
            "  Accuracy: 0.99\n",
            "  Validation Loss: 0.00\n",
            "  Validation took: 0:00:01\n",
            "\n",
            "======== Epoch 3 / 3 ========\n",
            "Training...\n",
            "  Batch    40  of    417.    Elapsed: 0:00:04.\n",
            "  Batch    80  of    417.    Elapsed: 0:00:08.\n",
            "  Batch   120  of    417.    Elapsed: 0:00:13.\n",
            "  Batch   160  of    417.    Elapsed: 0:00:17.\n",
            "  Batch   200  of    417.    Elapsed: 0:00:21.\n",
            "  Batch   240  of    417.    Elapsed: 0:00:25.\n",
            "  Batch   280  of    417.    Elapsed: 0:00:30.\n",
            "  Batch   320  of    417.    Elapsed: 0:00:34.\n",
            "  Batch   360  of    417.    Elapsed: 0:00:38.\n",
            "  Batch   400  of    417.    Elapsed: 0:00:42.\n",
            "\n",
            "  Average training loss: 0.01\n",
            "  Training epcoh took: 0:00:44\n",
            "\n",
            "Running Validation...\n",
            "  Accuracy: 1.00\n",
            "  Validation Loss: 0.00\n",
            "  Validation took: 0:00:01\n",
            "Saving model to ./albert_output/\n",
            "\n",
            "Training complete!\n",
            "Total training took 0:02:17 (h:mm:ss)\n"
          ]
        }
      ]
    },
    {
      "cell_type": "code",
      "source": [
        "prediction2 = model2.test()"
      ],
      "metadata": {
        "id": "0rXeVZie3RTX"
      },
      "execution_count": null,
      "outputs": []
    },
    {
      "cell_type": "code",
      "source": [
        "y_pred2 = [np.argmax(tup) for tup in prediction2]\n",
        "y = df_score.label"
      ],
      "metadata": {
        "id": "hqc9DU_U3Wjl"
      },
      "execution_count": null,
      "outputs": []
    },
    {
      "cell_type": "code",
      "source": [
        "metrics(y, y_pred2)"
      ],
      "metadata": {
        "colab": {
          "base_uri": "https://localhost:8080/",
          "height": 415
        },
        "id": "g1TpcgJK3gT0",
        "outputId": "3d72c292-193f-4fea-9205-815c4472ef0a"
      },
      "execution_count": null,
      "outputs": [
        {
          "output_type": "stream",
          "name": "stdout",
          "text": [
            "\n",
            "\n",
            "Accuracy: 0.911\n",
            "Precision: 0.910\n",
            "Recall: 0.907\n",
            "F1-Score: 0.908\n"
          ]
        },
        {
          "output_type": "display_data",
          "data": {
            "image/png": "[encoded data removed]",
            "text/plain": [
              "<Figure size 432x288 with 2 Axes>"
            ]
          },
          "metadata": {
            "needs_background": "light"
          }
        }
      ]
    },
    {
      "cell_type": "markdown",
      "source": [
        "Model3\n"
      ],
      "metadata": {
        "id": "h5qe1JQK3mAX"
      }
    },
    {
      "cell_type": "code",
      "source": [
        "config3 = Configs(\n",
        "                pretrained_model_dir = '../models/DistilBert',\n",
        "                model_name = 'distilbert',\n",
        "                num_train_epochs=3,\n",
        "                train_batch_size = 16,\n",
        "                eval_batch_size = 8, \n",
        "                do_train = True, \n",
        "                do_eval = True,\n",
        "                max_seq_length = 500,\n",
        "                learning_rate = 5e-5,\n",
        "                label_list = [0,1,2],\n",
        "                data_dir = '../content',\n",
        "                output_dir = '../transformers_output_secfiling/')\n",
        "                 \n",
        "# config3 = Configs(\n",
        "#                 # pretrained_model_dir = '../models/DistilBert',\n",
        "#                 pretrained_model_dir = '../transformers_output_secfiling/', #for testing\n",
        "#                 model_name = 'distilbert', \n",
        "#                 num_train_epochs=3,\n",
        "#                 train_batch_size = 16,\n",
        "#                 eval_batch_size = 8, \n",
        "#                 #  do_train = True, \n",
        "#                 do_train = False, # for testing\n",
        "#                 do_eval = True,\n",
        "#                 max_seq_length = 500,\n",
        "#                 learning_rate = 5e-5,\n",
        "#                 label_list = [0,1,2],\n",
        "#                 data_dir = '../content'\n",
        "#                 # output_dir = '../transformers_output_secfiling/'\n",
        "#                 )\n"
      ],
      "metadata": {
        "id": "3nOF64ZT3leQ"
      },
      "execution_count": null,
      "outputs": []
    },
    {
      "cell_type": "code",
      "source": [
        "model3 = TransformersClassification(config3)"
      ],
      "metadata": {
        "id": "dSWoMdx03xFO"
      },
      "execution_count": null,
      "outputs": []
    },
    {
      "cell_type": "code",
      "source": [
        "model3.train()"
      ],
      "metadata": {
        "colab": {
          "base_uri": "https://localhost:8080/"
        },
        "id": "YjsSh-If31Ij",
        "outputId": "e910ca42-dba2-4e47-b6cb-9a041abfe1bb"
      },
      "execution_count": null,
      "outputs": [
        {
          "output_type": "stream",
          "name": "stdout",
          "text": [
            "\n",
            "======== Epoch 1 / 3 ========\n",
            "Training...\n",
            "  Batch    40  of    417.    Elapsed: 0:00:17.\n",
            "  Batch    80  of    417.    Elapsed: 0:00:34.\n",
            "  Batch   120  of    417.    Elapsed: 0:00:51.\n",
            "  Batch   160  of    417.    Elapsed: 0:01:08.\n",
            "  Batch   200  of    417.    Elapsed: 0:01:25.\n",
            "  Batch   240  of    417.    Elapsed: 0:01:42.\n",
            "  Batch   280  of    417.    Elapsed: 0:01:59.\n",
            "  Batch   320  of    417.    Elapsed: 0:02:16.\n",
            "  Batch   360  of    417.    Elapsed: 0:02:33.\n",
            "  Batch   400  of    417.    Elapsed: 0:02:50.\n",
            "\n",
            "  Average training loss: 0.37\n",
            "  Training epcoh took: 0:02:57\n",
            "\n",
            "Running Validation...\n",
            "  Accuracy: 0.98\n",
            "  Validation Loss: 0.00\n",
            "  Validation took: 0:00:06\n",
            "\n",
            "======== Epoch 2 / 3 ========\n",
            "Training...\n",
            "  Batch    40  of    417.    Elapsed: 0:00:17.\n",
            "  Batch    80  of    417.    Elapsed: 0:00:34.\n",
            "  Batch   120  of    417.    Elapsed: 0:00:51.\n",
            "  Batch   160  of    417.    Elapsed: 0:01:08.\n",
            "  Batch   200  of    417.    Elapsed: 0:01:25.\n",
            "  Batch   240  of    417.    Elapsed: 0:01:42.\n",
            "  Batch   280  of    417.    Elapsed: 0:01:59.\n",
            "  Batch   320  of    417.    Elapsed: 0:02:16.\n",
            "  Batch   360  of    417.    Elapsed: 0:02:33.\n",
            "  Batch   400  of    417.    Elapsed: 0:02:50.\n",
            "\n",
            "  Average training loss: 0.11\n",
            "  Training epcoh took: 0:02:57\n",
            "\n",
            "Running Validation...\n",
            "  Accuracy: 0.99\n",
            "  Validation Loss: 0.00\n",
            "  Validation took: 0:00:06\n",
            "\n",
            "======== Epoch 3 / 3 ========\n",
            "Training...\n",
            "  Batch    40  of    417.    Elapsed: 0:00:17.\n",
            "  Batch    80  of    417.    Elapsed: 0:00:34.\n",
            "  Batch   120  of    417.    Elapsed: 0:00:51.\n",
            "  Batch   160  of    417.    Elapsed: 0:01:08.\n",
            "  Batch   200  of    417.    Elapsed: 0:01:25.\n",
            "  Batch   240  of    417.    Elapsed: 0:01:42.\n",
            "  Batch   280  of    417.    Elapsed: 0:01:59.\n",
            "  Batch   320  of    417.    Elapsed: 0:02:16.\n",
            "  Batch   360  of    417.    Elapsed: 0:02:33.\n",
            "  Batch   400  of    417.    Elapsed: 0:02:50.\n",
            "\n",
            "  Average training loss: 0.03\n",
            "  Training epcoh took: 0:02:57\n",
            "\n",
            "Running Validation...\n",
            "  Accuracy: 1.00\n",
            "  Validation Loss: 0.00\n",
            "  Validation took: 0:00:06\n",
            "Saving model to ../transformers_output_secfiling/\n",
            "\n",
            "Training complete!\n",
            "Total training took 0:09:10 (h:mm:ss)\n"
          ]
        }
      ]
    },
    {
      "cell_type": "code",
      "source": [
        "prediction3 = model3.test()"
      ],
      "metadata": {
        "id": "impO6d9q-QDH"
      },
      "execution_count": null,
      "outputs": []
    },
    {
      "cell_type": "code",
      "source": [
        "y_pred3 = [np.argmax(tup) for tup in prediction3]\n",
        "y = df_score.label"
      ],
      "metadata": {
        "id": "IDOQW73Q-UNf"
      },
      "execution_count": null,
      "outputs": []
    },
    {
      "cell_type": "code",
      "source": [
        "metrics(y, y_pred3)"
      ],
      "metadata": {
        "colab": {
          "base_uri": "https://localhost:8080/",
          "height": 415
        },
        "id": "APAc_ttZtOf3",
        "outputId": "07af403c-0e3a-4910-d8ae-b5f0a4f5bef7"
      },
      "execution_count": null,
      "outputs": [
        {
          "output_type": "stream",
          "name": "stdout",
          "text": [
            "\n",
            "\n",
            "Accuracy: 0.959\n",
            "Precision: 0.958\n",
            "Recall: 0.959\n",
            "F1-Score: 0.958\n"
          ]
        },
        {
          "output_type": "display_data",
          "data": {
            "image/png": "[encoded data removed]",
            "text/plain": [
              "<Figure size 432x288 with 2 Axes>"
            ]
          },
          "metadata": {
            "needs_background": "light"
          }
        }
      ]
    },
    {
      "cell_type": "code",
      "source": [
        "metrics(y, y_pred3)"
      ],
      "metadata": {
        "colab": {
          "base_uri": "https://localhost:8080/",
          "height": 415
        },
        "id": "EFZR0jhH-YqW",
        "outputId": "4d812de1-3bf6-4d0e-fc0e-fafdd8d1a012"
      },
      "execution_count": null,
      "outputs": [
        {
          "output_type": "stream",
          "name": "stdout",
          "text": [
            "\n",
            "\n",
            "Accuracy: 0.948\n",
            "Precision: 0.943\n",
            "Recall: 0.951\n",
            "F1-Score: 0.947\n"
          ]
        },
        {
          "output_type": "display_data",
          "data": {
            "image/png": "[encoded data removed]",
            "text/plain": [
              "<Figure size 432x288 with 2 Axes>"
            ]
          },
          "metadata": {
            "needs_background": "light"
          }
        }
      ]
    },
    {
      "cell_type": "code",
      "source": [
        "import torch\n",
        "torch.save(model3, '../content/albert_trained3')\n",
        "\n",
        "# saved_model = torch.load('path/to/model')"
      ],
      "metadata": {
        "id": "GGCPedzEkO0y"
      },
      "execution_count": null,
      "outputs": []
    },
    {
      "cell_type": "code",
      "source": [
        "import torch\n",
        "torch.save(model2, '../content/albert_trained2')\n",
        "\n",
        "# saved_model = torch.load('path/to/model')"
      ],
      "metadata": {
        "id": "gonZ57MN1ohq"
      },
      "execution_count": null,
      "outputs": []
    },
    {
      "cell_type": "code",
      "source": [
        "import torch\n",
        "torch.save(model, '../content/albert_trained')\n",
        "\n",
        "# saved_model = torch.load('path/to/model')"
      ],
      "metadata": {
        "id": "wylMYN9tAa2W"
      },
      "execution_count": null,
      "outputs": []
    }
  ],
  "metadata": {
    "kernelspec": {
      "display_name": "Python 3",
      "name": "python3"
    },
    "language_info": {
      "name": "python"
    },
    "colab": {
      "name": "model_building_bert_distilbert_v2.ipynb",
      "provenance": [],
      "collapsed_sections": []
    },
    "accelerator": "GPU"
  },
  "nbformat": 4,
  "nbformat_minor": 0
}