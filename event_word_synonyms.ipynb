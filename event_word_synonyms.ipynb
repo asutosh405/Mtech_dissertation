{
  "nbformat": 4,
  "nbformat_minor": 0,
  "metadata": {
    "colab": {
      "name": "event_word_synonyms.ipynb",
      "provenance": [],
      "collapsed_sections": [],
      "machine_shape": "hm"
    },
    "kernelspec": {
      "name": "python3",
      "display_name": "Python 3"
    },
    "language_info": {
      "name": "python"
    },
    "accelerator": "GPU"
  },
  "cells": [
    {
      "cell_type": "code",
      "metadata": {
        "id": "RAtADxPwWDZ3"
      },
      "source": [
        "import gensim"
      ],
      "execution_count": null,
      "outputs": []
    },
    {
      "cell_type": "code",
      "metadata": {
        "colab": {
          "base_uri": "https://localhost:8080/"
        },
        "id": "5RO79rWGWG_1",
        "outputId": "41440c8c-4d69-4fca-812f-834a82247dda"
      },
      "source": [
        "from google.colab import drive\n",
        "drive.mount('/content/drive/')"
      ],
      "execution_count": null,
      "outputs": [
        {
          "output_type": "stream",
          "name": "stdout",
          "text": [
            "Mounted at /content/drive/\n"
          ]
        }
      ]
    },
    {
      "cell_type": "code",
      "metadata": {
        "id": "Uk3n5GYEWKUJ"
      },
      "source": [
        "import os\n",
        "os.chdir(\"drive/My Drive/data\")"
      ],
      "execution_count": null,
      "outputs": []
    },
    {
      "cell_type": "code",
      "metadata": {
        "colab": {
          "base_uri": "https://localhost:8080/"
        },
        "id": "XjCQOxU9WbeK",
        "outputId": "14530eae-8e7d-4f75-a49d-be220483e614"
      },
      "source": [
        "# !ls"
      ],
      "execution_count": null,
      "outputs": [
        {
          "output_type": "stream",
          "name": "stdout",
          "text": [
            "GoogleNews-vectors-negative300.bin.gz  sent_tokens_nonascii.csv\n",
            "sent_tokens_nonascii_1st.csv\t       word2vec.model\n"
          ]
        }
      ]
    },
    {
      "cell_type": "code",
      "metadata": {
        "id": "D9mieOYcWeBA"
      },
      "source": [
        "model = gensim.models.KeyedVectors.load_word2vec_format('GoogleNews-vectors-negative300.bin.gz', binary=True)  "
      ],
      "execution_count": null,
      "outputs": []
    },
    {
      "cell_type": "code",
      "metadata": {
        "id": "affNtk68Z1mQ"
      },
      "source": [
        "events_1 = ['acquire','merger','consolidation']\n",
        "acquire_tag=[]\n",
        "for i in events_1:\n",
        "  acquire_sims = model.most_similar(positive=[i], topn=20)  \n",
        "  for idx, i in enumerate(acquire_sims):\n",
        "    if acquire_sims[idx][1] > 0.50:\n",
        "      acquire_tag.append(acquire_sims[idx][0])"
      ],
      "execution_count": null,
      "outputs": []
    },
    {
      "cell_type": "code",
      "metadata": {
        "colab": {
          "base_uri": "https://localhost:8080/"
        },
        "id": "5WRlEj0CadP8",
        "outputId": "740f7218-b551-41af-a3d5-5d4e6f25a69c"
      },
      "source": [
        "converter = lambda x: x.replace('_', ' ')\n",
        "acquire_tag = list(map(converter, acquire_tag))\n",
        "acquire_tag"
      ],
      "execution_count": null,
      "outputs": [
        {
          "output_type": "execute_result",
          "data": {
            "text/plain": [
              "['acquiring',\n",
              " 'aquire',\n",
              " 'acquired',\n",
              " 'acquires',\n",
              " 'acquisition',\n",
              " 'reacquire',\n",
              " 'purchase',\n",
              " 'Acquire',\n",
              " 'Acquiring',\n",
              " 'buy',\n",
              " 'divest',\n",
              " 'sell',\n",
              " 'toacquire',\n",
              " 'aquired',\n",
              " 'procure',\n",
              " 'develop',\n",
              " 'Merger',\n",
              " 'merging',\n",
              " 'acquisition',\n",
              " 'takeover',\n",
              " 'mergers',\n",
              " 'merge',\n",
              " 'transaction',\n",
              " 'merged',\n",
              " 'amalgamation',\n",
              " 'demerger',\n",
              " 'megamerger',\n",
              " 'consolidation',\n",
              " 'mega mergers',\n",
              " 'acquisiton',\n",
              " 'reorganization',\n",
              " 'thetransaction',\n",
              " 'Proposed Merger',\n",
              " 'recapitalization',\n",
              " 'synergies',\n",
              " 'takeover bid',\n",
              " 'consolidations',\n",
              " 'Consolidation',\n",
              " 'consolidating',\n",
              " 'restructuring',\n",
              " 'MOSAID licensees',\n",
              " 'reorganization',\n",
              " 'merger',\n",
              " 'consolidate',\n",
              " 'Classically storage',\n",
              " 'rationalization',\n",
              " 'securitized Timeshare notes',\n",
              " 'regionalization',\n",
              " 'centralization',\n",
              " 'downsizing',\n",
              " 'Jianhe project',\n",
              " 'mergers',\n",
              " 'shakeout']"
            ]
          },
          "metadata": {},
          "execution_count": 6
        }
      ]
    },
    {
      "cell_type": "code",
      "metadata": {
        "colab": {
          "base_uri": "https://localhost:8080/",
          "height": 109
        },
        "id": "1jVC6i7uZ6Ji",
        "outputId": "4b4afdfa-213b-4967-efc6-543760fb6394"
      },
      "source": [
        "sent_acquire = \" \".join(acquire_tag)\n",
        "sent_acquire"
      ],
      "execution_count": null,
      "outputs": [
        {
          "output_type": "execute_result",
          "data": {
            "application/vnd.google.colaboratory.intrinsic+json": {
              "type": "string"
            },
            "text/plain": [
              "'acquiring aquire acquired acquires acquisition reacquire purchase Acquire Acquiring buy divest sell toacquire aquired procure develop Merger merging acquisition takeover mergers merge transaction merged amalgamation demerger megamerger consolidation mega mergers acquisiton reorganization thetransaction Proposed Merger recapitalization synergies takeover bid consolidations Consolidation consolidating restructuring MOSAID licensees reorganization merger consolidate Classically storage rationalization securitized Timeshare notes regionalization centralization downsizing Jianhe project mergers shakeout'"
            ]
          },
          "metadata": {},
          "execution_count": 7
        }
      ]
    },
    {
      "cell_type": "code",
      "metadata": {
        "id": "wg3sMPDvZ90_"
      },
      "source": [
        "events_2 = ['scam','litigation','fraud','lawsuit', 'sue', 'governance']\n",
        "fraud_tag=[]\n",
        "for i in events_2:\n",
        "  fraud_sims = model.most_similar(positive=[i], topn=20)  \n",
        "  for idx, i in enumerate(fraud_sims):\n",
        "    if fraud_sims[idx][1] > 0.60:\n",
        "      fraud_tag.append(fraud_sims[idx][0])"
      ],
      "execution_count": null,
      "outputs": []
    },
    {
      "cell_type": "code",
      "metadata": {
        "id": "UwvGlyddau9s"
      },
      "source": [
        "converter = lambda x: x.replace('_', ' ')\n",
        "fraud_tag = list(map(converter, fraud_tag))"
      ],
      "execution_count": null,
      "outputs": []
    },
    {
      "cell_type": "code",
      "metadata": {
        "colab": {
          "base_uri": "https://localhost:8080/",
          "height": 109
        },
        "id": "4EZofK3vaEOR",
        "outputId": "546972fe-6906-46ec-c3b9-4637e9394265"
      },
      "source": [
        "sent_fraud = \" \".join(fraud_tag)\n",
        "sent_fraud"
      ],
      "execution_count": null,
      "outputs": [
        {
          "output_type": "execute_result",
          "data": {
            "application/vnd.google.colaboratory.intrinsic+json": {
              "type": "string"
            },
            "text/plain": [
              "'scams Scam swindle scammers frauds phishing scam scamming fraud scammer Scams Litigation litigating litigations lawsuits patent litigation protracted litigation pending litigation litigate frauds fraudulent Fraud scam identity theft lawsuits sued countersuit suit lawsuit alleging suing defamation lawsuit trademark infringement lawsuit counterclaim sue complaint plaintiffs wrongful death wrongful termination lawsuit wrongful termination suit Lawsuit wrongful dismissal lawsuit filed countersuit lawsuits alleging whistleblower lawsuit sued suing sues lawsuit countersue sueing Governance corporate governance goverance'"
            ]
          },
          "metadata": {},
          "execution_count": 19
        }
      ]
    },
    {
      "cell_type": "code",
      "metadata": {
        "id": "aUWxZWOJaHig"
      },
      "source": [
        "events_3 = ['launch','expansion', 'new']\n",
        "expansion_tag=[]\n",
        "for i in events_3:\n",
        "  expansion_sims = model.most_similar(positive=[i], topn=20)  \n",
        "  for idx, i in enumerate(expansion_sims):\n",
        "    if expansion_sims[idx][1] > 0.50:\n",
        "      expansion_tag.append(expansion_sims[idx][0])"
      ],
      "execution_count": null,
      "outputs": []
    },
    {
      "cell_type": "code",
      "metadata": {
        "id": "q3Ngf9cCa2e-"
      },
      "source": [
        "converter = lambda x: x.replace('_', ' ')\n",
        "expansion_tag = list(map(converter, expansion_tag))"
      ],
      "execution_count": null,
      "outputs": []
    },
    {
      "cell_type": "code",
      "metadata": {
        "colab": {
          "base_uri": "https://localhost:8080/",
          "height": 54
        },
        "id": "nhgpzApNaMRA",
        "outputId": "649524fd-2760-4a78-e88f-af5681055140"
      },
      "source": [
        "sent_expansion = \" \".join(expansion_tag)\n",
        "sent_expansion"
      ],
      "execution_count": null,
      "outputs": [
        {
          "output_type": "execute_result",
          "data": {
            "application/vnd.google.colaboratory.intrinsic+json": {
              "type": "string"
            },
            "text/plain": [
              "'launching launches lauch launched Launching relaunch Launch unveiling unveil launced relaunched rollout launchs lauching Launched introduce lauched introduction expansions Expansion expanding expand growth expanded Expansions development buildout Expanding revamped thenew newest'"
            ]
          },
          "metadata": {},
          "execution_count": 22
        }
      ]
    }
  ]
}