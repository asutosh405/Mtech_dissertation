{
 "cells": [
  {
   "cell_type": "code",
   "execution_count": 1,
   "metadata": {},
   "outputs": [],
   "source": [
    "from bs4 import BeautifulSoup\n",
    "import csv\n",
    "from os import mkdir\n",
    "from os.path import exists, join\n",
    "import urllib.request as request"
   ]
  },
  {
   "cell_type": "code",
   "execution_count": 2,
   "metadata": {},
   "outputs": [],
   "source": [
    "datadir = \"data\"\n",
    "if not exists(datadir):\n",
    "    mkdir(datadir)"
   ]
  },
  {
   "cell_type": "code",
   "execution_count": 4,
   "metadata": {},
   "outputs": [],
   "source": [
    "if not exists(\"C:/Users/ashut/Desktop/thesis/edgar-extraction/tmp\"):\n",
    "    mkdir(\"C:/Users/ashut/Desktop/thesis/edgar-extraction/tmp\")"
   ]
  },
  {
   "cell_type": "code",
   "execution_count": 5,
   "metadata": {},
   "outputs": [],
   "source": [
    "source = \"https://en.wikipedia.org/wiki/List_of_S%26P_500_companies\"\n",
    "cache = join(\"C:/Users/ashut/Desktop/thesis/edgar-extraction/tmp\", \"List_of_S%26P_500_companies.html\")"
   ]
  },
  {
   "cell_type": "code",
   "execution_count": 6,
   "metadata": {},
   "outputs": [],
   "source": [
    "def retrieve():\n",
    "    request.urlretrieve(source, cache)"
   ]
  },
  {
   "cell_type": "code",
   "execution_count": 28,
   "metadata": {},
   "outputs": [],
   "source": [
    "def extract():\n",
    "    source_page = open(cache,'rb') #.read()\n",
    "    soup = BeautifulSoup(source_page, \"html.parser\")\n",
    "    table = soup.find(\"table\", {\"class\": \"wikitable sortable\"})\n",
    "\n",
    "    # Fail now if we haven't found the right table\n",
    "    header = table.findAll(\"th\")\n",
    "    if header[0].text.rstrip() != \"Symbol\" or header[1].string != \"Security\":\n",
    "        raise Exception(\"Can't parse Wikipedia's table!\")\n",
    "    \n",
    "    # Retrieve the values in the table\n",
    "    records = []\n",
    "    symbols = []\n",
    "    cik = []\n",
    "    rows = table.findAll(\"tr\")\n",
    "    for row in rows:\n",
    "        fields = row.findAll(\"td\")\n",
    "        if fields:\n",
    "            symbol = fields[0].text.rstrip()\n",
    "            # fix as now they have links to the companies on WP\n",
    "            name = fields[1].text.replace(\",\", \"\")\n",
    "            sector = fields[3].text.rstrip()\n",
    "            cik = fields[7].text.rstrip()\n",
    "            records.append([symbol, name, sector, cik])\n",
    "            symbols.append(symbol + \"\\n\")\n",
    "\n",
    "    header = [\"Symbol\", \"Name\", \"Sector\", \"CIK\"]\n",
    "    writer = csv.writer(\n",
    "        open(\"./data/constituents.csv\", \"w\"), lineterminator=\"\\n\"\n",
    "    )\n",
    "    writer.writerow(header)\n",
    "    # Sorting ensure easy tracking of modifications\n",
    "    records.sort(key=lambda s: s[1].lower())\n",
    "    writer.writerows(records)\n",
    "\n",
    "    with open(\"./data/constituents_symbols.txt\", \"w\") as f:\n",
    "        # Sorting ensure easy tracking of modifications\n",
    "        symbols.sort(key=lambda s: s[0].lower())\n",
    "        f.writelines(symbols)"
   ]
  },
  {
   "cell_type": "code",
   "execution_count": 25,
   "metadata": {},
   "outputs": [],
   "source": [
    "def process():\n",
    "    retrieve()\n",
    "    extract()"
   ]
  },
  {
   "cell_type": "code",
   "execution_count": 29,
   "metadata": {},
   "outputs": [],
   "source": [
    "if __name__ == \"__main__\":\n",
    "    process()"
   ]
  }
 ],
 "metadata": {
  "kernelspec": {
   "display_name": "Python 3",
   "language": "python",
   "name": "python3"
  },
  "language_info": {
   "codemirror_mode": {
    "name": "ipython",
    "version": 3
   },
   "file_extension": ".py",
   "mimetype": "text/x-python",
   "name": "python",
   "nbconvert_exporter": "python",
   "pygments_lexer": "ipython3",
   "version": "3.7.4"
  }
 },
 "nbformat": 4,
 "nbformat_minor": 2
}
