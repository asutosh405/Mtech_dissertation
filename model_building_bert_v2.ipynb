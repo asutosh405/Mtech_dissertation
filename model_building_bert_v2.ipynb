{
  "cells": [
    {
      "cell_type": "markdown",
      "metadata": {
        "id": "QoI_YEYJXN6T"
      },
      "source": [
        "# Pytorch Framework for Multi-class Text Classification"
      ]
    },
    {
      "cell_type": "markdown",
      "metadata": {
        "id": "zVfk9jpKXN6Z"
      },
      "source": [
        "Sec Filing event extraction- 3 Class Problem\n",
        "\n",
        "* \n",
        "* Class Labels: 3 <br/>\n",
        "\n",
        "    0 - Acquire <br/>\n",
        "    1 - Expansion <br/>\n",
        "    2 - Scam <br/>  "
      ]
    },
    {
      "cell_type": "markdown",
      "metadata": {
        "id": "gaY5_qKFXN6a"
      },
      "source": [
        "## Reading Data"
      ]
    },
    {
      "cell_type": "code",
      "source": [
        "%%bash\n",
        "source activate myenv"
      ],
      "metadata": {
        "colab": {
          "base_uri": "https://localhost:8080/"
        },
        "id": "V6iiuN5cLFhT",
        "outputId": "81ab8e5b-f839-4720-cfdf-50ca1d03c54d"
      },
      "execution_count": null,
      "outputs": [
        {
          "output_type": "stream",
          "name": "stderr",
          "text": [
            "bash: line 1: activate: No such file or directory\n"
          ]
        }
      ]
    },
    {
      "cell_type": "code",
      "source": [
        "!pip install tensorflow==1.15.2\n",
        "print('_____')\n",
        "!pip install tensorflow-gpu==1.15.2\n"
      ],
      "metadata": {
        "colab": {
          "base_uri": "https://localhost:8080/"
        },
        "id": "2FZZk510LNgm",
        "outputId": "8965c8b1-8a40-4711-f178-5530d4d37c45"
      },
      "execution_count": null,
      "outputs": [
        {
          "output_type": "stream",
          "name": "stdout",
          "text": [
            "Collecting tensorflow==1.15.2\n",
            "  Downloading tensorflow-1.15.2-cp37-cp37m-manylinux2010_x86_64.whl (110.5 MB)\n",
            "\u001b[K     |████████████████████████████████| 110.5 MB 35 kB/s \n",
            "\u001b[?25hCollecting keras-applications>=1.0.8\n",
            "  Downloading Keras_Applications-1.0.8-py3-none-any.whl (50 kB)\n",
            "\u001b[K     |████████████████████████████████| 50 kB 9.2 MB/s \n",
            "\u001b[?25hRequirement already satisfied: wrapt>=1.11.1 in /usr/local/lib/python3.7/dist-packages (from tensorflow==1.15.2) (1.13.3)\n",
            "Requirement already satisfied: grpcio>=1.8.6 in /usr/local/lib/python3.7/dist-packages (from tensorflow==1.15.2) (1.43.0)\n",
            "Collecting gast==0.2.2\n",
            "  Downloading gast-0.2.2.tar.gz (10 kB)\n",
            "Requirement already satisfied: protobuf>=3.6.1 in /usr/local/lib/python3.7/dist-packages (from tensorflow==1.15.2) (3.17.3)\n",
            "Requirement already satisfied: absl-py>=0.7.0 in /usr/local/lib/python3.7/dist-packages (from tensorflow==1.15.2) (0.12.0)\n",
            "Requirement already satisfied: astor>=0.6.0 in /usr/local/lib/python3.7/dist-packages (from tensorflow==1.15.2) (0.8.1)\n",
            "Requirement already satisfied: keras-preprocessing>=1.0.5 in /usr/local/lib/python3.7/dist-packages (from tensorflow==1.15.2) (1.1.2)\n",
            "Requirement already satisfied: opt-einsum>=2.3.2 in /usr/local/lib/python3.7/dist-packages (from tensorflow==1.15.2) (3.3.0)\n",
            "Requirement already satisfied: six>=1.10.0 in /usr/local/lib/python3.7/dist-packages (from tensorflow==1.15.2) (1.15.0)\n",
            "Requirement already satisfied: numpy<2.0,>=1.16.0 in /usr/local/lib/python3.7/dist-packages (from tensorflow==1.15.2) (1.19.5)\n",
            "Collecting tensorboard<1.16.0,>=1.15.0\n",
            "  Downloading tensorboard-1.15.0-py3-none-any.whl (3.8 MB)\n",
            "\u001b[K     |████████████████████████████████| 3.8 MB 61.7 MB/s \n",
            "\u001b[?25hRequirement already satisfied: google-pasta>=0.1.6 in /usr/local/lib/python3.7/dist-packages (from tensorflow==1.15.2) (0.2.0)\n",
            "Requirement already satisfied: wheel>=0.26 in /usr/local/lib/python3.7/dist-packages (from tensorflow==1.15.2) (0.37.1)\n",
            "Collecting tensorflow-estimator==1.15.1\n",
            "  Downloading tensorflow_estimator-1.15.1-py2.py3-none-any.whl (503 kB)\n",
            "\u001b[K     |████████████████████████████████| 503 kB 63.3 MB/s \n",
            "\u001b[?25hRequirement already satisfied: termcolor>=1.1.0 in /usr/local/lib/python3.7/dist-packages (from tensorflow==1.15.2) (1.1.0)\n",
            "Requirement already satisfied: h5py in /usr/local/lib/python3.7/dist-packages (from keras-applications>=1.0.8->tensorflow==1.15.2) (3.1.0)\n",
            "Requirement already satisfied: markdown>=2.6.8 in /usr/local/lib/python3.7/dist-packages (from tensorboard<1.16.0,>=1.15.0->tensorflow==1.15.2) (3.3.6)\n",
            "Requirement already satisfied: werkzeug>=0.11.15 in /usr/local/lib/python3.7/dist-packages (from tensorboard<1.16.0,>=1.15.0->tensorflow==1.15.2) (1.0.1)\n",
            "Requirement already satisfied: setuptools>=41.0.0 in /usr/local/lib/python3.7/dist-packages (from tensorboard<1.16.0,>=1.15.0->tensorflow==1.15.2) (57.4.0)\n",
            "Requirement already satisfied: importlib-metadata>=4.4 in /usr/local/lib/python3.7/dist-packages (from markdown>=2.6.8->tensorboard<1.16.0,>=1.15.0->tensorflow==1.15.2) (4.10.0)\n",
            "Requirement already satisfied: typing-extensions>=3.6.4 in /usr/local/lib/python3.7/dist-packages (from importlib-metadata>=4.4->markdown>=2.6.8->tensorboard<1.16.0,>=1.15.0->tensorflow==1.15.2) (3.10.0.2)\n",
            "Requirement already satisfied: zipp>=0.5 in /usr/local/lib/python3.7/dist-packages (from importlib-metadata>=4.4->markdown>=2.6.8->tensorboard<1.16.0,>=1.15.0->tensorflow==1.15.2) (3.7.0)\n",
            "Requirement already satisfied: cached-property in /usr/local/lib/python3.7/dist-packages (from h5py->keras-applications>=1.0.8->tensorflow==1.15.2) (1.5.2)\n",
            "Building wheels for collected packages: gast\n",
            "  Building wheel for gast (setup.py) ... \u001b[?25l\u001b[?25hdone\n",
            "  Created wheel for gast: filename=gast-0.2.2-py3-none-any.whl size=7554 sha256=874def6a4f6d53b59a1883f5016ea2d7c7cb559825d06ad02cf39a3c9482df54\n",
            "  Stored in directory: /root/.cache/pip/wheels/21/7f/02/420f32a803f7d0967b48dd823da3f558c5166991bfd204eef3\n",
            "Successfully built gast\n",
            "Installing collected packages: tensorflow-estimator, tensorboard, keras-applications, gast, tensorflow\n",
            "  Attempting uninstall: tensorflow-estimator\n",
            "    Found existing installation: tensorflow-estimator 2.7.0\n",
            "    Uninstalling tensorflow-estimator-2.7.0:\n",
            "      Successfully uninstalled tensorflow-estimator-2.7.0\n",
            "  Attempting uninstall: tensorboard\n",
            "    Found existing installation: tensorboard 2.7.0\n",
            "    Uninstalling tensorboard-2.7.0:\n",
            "      Successfully uninstalled tensorboard-2.7.0\n",
            "  Attempting uninstall: gast\n",
            "    Found existing installation: gast 0.4.0\n",
            "    Uninstalling gast-0.4.0:\n",
            "      Successfully uninstalled gast-0.4.0\n",
            "  Attempting uninstall: tensorflow\n",
            "    Found existing installation: tensorflow 2.7.0\n",
            "    Uninstalling tensorflow-2.7.0:\n",
            "      Successfully uninstalled tensorflow-2.7.0\n",
            "\u001b[31mERROR: pip's dependency resolver does not currently take into account all the packages that are installed. This behaviour is the source of the following dependency conflicts.\n",
            "tensorflow-probability 0.15.0 requires gast>=0.3.2, but you have gast 0.2.2 which is incompatible.\n",
            "kapre 0.3.6 requires tensorflow>=2.0.0, but you have tensorflow 1.15.2 which is incompatible.\u001b[0m\n",
            "Successfully installed gast-0.2.2 keras-applications-1.0.8 tensorboard-1.15.0 tensorflow-1.15.2 tensorflow-estimator-1.15.1\n",
            "_____\n",
            "Collecting tensorflow-gpu==1.15.2\n",
            "  Downloading tensorflow_gpu-1.15.2-cp37-cp37m-manylinux2010_x86_64.whl (410.9 MB)\n",
            "\u001b[K     |████████████████████████████████| 410.9 MB 31 kB/s \n",
            "\u001b[?25hRequirement already satisfied: wrapt>=1.11.1 in /usr/local/lib/python3.7/dist-packages (from tensorflow-gpu==1.15.2) (1.13.3)\n",
            "Requirement already satisfied: gast==0.2.2 in /usr/local/lib/python3.7/dist-packages (from tensorflow-gpu==1.15.2) (0.2.2)\n",
            "Requirement already satisfied: six>=1.10.0 in /usr/local/lib/python3.7/dist-packages (from tensorflow-gpu==1.15.2) (1.15.0)\n",
            "Requirement already satisfied: termcolor>=1.1.0 in /usr/local/lib/python3.7/dist-packages (from tensorflow-gpu==1.15.2) (1.1.0)\n",
            "Requirement already satisfied: tensorflow-estimator==1.15.1 in /usr/local/lib/python3.7/dist-packages (from tensorflow-gpu==1.15.2) (1.15.1)\n",
            "Requirement already satisfied: astor>=0.6.0 in /usr/local/lib/python3.7/dist-packages (from tensorflow-gpu==1.15.2) (0.8.1)\n",
            "Requirement already satisfied: opt-einsum>=2.3.2 in /usr/local/lib/python3.7/dist-packages (from tensorflow-gpu==1.15.2) (3.3.0)\n",
            "Requirement already satisfied: tensorboard<1.16.0,>=1.15.0 in /usr/local/lib/python3.7/dist-packages (from tensorflow-gpu==1.15.2) (1.15.0)\n",
            "Requirement already satisfied: grpcio>=1.8.6 in /usr/local/lib/python3.7/dist-packages (from tensorflow-gpu==1.15.2) (1.43.0)\n",
            "Requirement already satisfied: wheel>=0.26 in /usr/local/lib/python3.7/dist-packages (from tensorflow-gpu==1.15.2) (0.37.1)\n",
            "Requirement already satisfied: absl-py>=0.7.0 in /usr/local/lib/python3.7/dist-packages (from tensorflow-gpu==1.15.2) (0.12.0)\n",
            "Requirement already satisfied: protobuf>=3.6.1 in /usr/local/lib/python3.7/dist-packages (from tensorflow-gpu==1.15.2) (3.17.3)\n",
            "Requirement already satisfied: numpy<2.0,>=1.16.0 in /usr/local/lib/python3.7/dist-packages (from tensorflow-gpu==1.15.2) (1.19.5)\n",
            "Requirement already satisfied: keras-applications>=1.0.8 in /usr/local/lib/python3.7/dist-packages (from tensorflow-gpu==1.15.2) (1.0.8)\n",
            "Requirement already satisfied: keras-preprocessing>=1.0.5 in /usr/local/lib/python3.7/dist-packages (from tensorflow-gpu==1.15.2) (1.1.2)\n",
            "Requirement already satisfied: google-pasta>=0.1.6 in /usr/local/lib/python3.7/dist-packages (from tensorflow-gpu==1.15.2) (0.2.0)\n",
            "Requirement already satisfied: h5py in /usr/local/lib/python3.7/dist-packages (from keras-applications>=1.0.8->tensorflow-gpu==1.15.2) (3.1.0)\n",
            "Requirement already satisfied: werkzeug>=0.11.15 in /usr/local/lib/python3.7/dist-packages (from tensorboard<1.16.0,>=1.15.0->tensorflow-gpu==1.15.2) (1.0.1)\n",
            "Requirement already satisfied: markdown>=2.6.8 in /usr/local/lib/python3.7/dist-packages (from tensorboard<1.16.0,>=1.15.0->tensorflow-gpu==1.15.2) (3.3.6)\n",
            "Requirement already satisfied: setuptools>=41.0.0 in /usr/local/lib/python3.7/dist-packages (from tensorboard<1.16.0,>=1.15.0->tensorflow-gpu==1.15.2) (57.4.0)\n",
            "Requirement already satisfied: importlib-metadata>=4.4 in /usr/local/lib/python3.7/dist-packages (from markdown>=2.6.8->tensorboard<1.16.0,>=1.15.0->tensorflow-gpu==1.15.2) (4.10.0)\n",
            "Requirement already satisfied: typing-extensions>=3.6.4 in /usr/local/lib/python3.7/dist-packages (from importlib-metadata>=4.4->markdown>=2.6.8->tensorboard<1.16.0,>=1.15.0->tensorflow-gpu==1.15.2) (3.10.0.2)\n",
            "Requirement already satisfied: zipp>=0.5 in /usr/local/lib/python3.7/dist-packages (from importlib-metadata>=4.4->markdown>=2.6.8->tensorboard<1.16.0,>=1.15.0->tensorflow-gpu==1.15.2) (3.7.0)\n",
            "Requirement already satisfied: cached-property in /usr/local/lib/python3.7/dist-packages (from h5py->keras-applications>=1.0.8->tensorflow-gpu==1.15.2) (1.5.2)\n",
            "Installing collected packages: tensorflow-gpu\n",
            "Successfully installed tensorflow-gpu-1.15.2\n"
          ]
        }
      ]
    },
    {
      "cell_type": "code",
      "source": [
        "!pip install bert-tensorflow\n",
        "!pip install torch==1.5.1\n",
        "!pip install torchvision==0.6.1\n",
        "!pip install transformers==2.11.0"
      ],
      "metadata": {
        "colab": {
          "base_uri": "https://localhost:8080/"
        },
        "id": "fNvXzDUZL4bD",
        "outputId": "55159b47-1c63-4e6a-cb5b-37757a9fdbb0"
      },
      "execution_count": null,
      "outputs": [
        {
          "output_type": "stream",
          "name": "stdout",
          "text": [
            "Collecting bert-tensorflow\n",
            "  Downloading bert_tensorflow-1.0.4-py2.py3-none-any.whl (64 kB)\n",
            "\u001b[?25l\r\u001b[K     |█████                           | 10 kB 36.1 MB/s eta 0:00:01\r\u001b[K     |██████████▏                     | 20 kB 28.8 MB/s eta 0:00:01\r\u001b[K     |███████████████▎                | 30 kB 18.7 MB/s eta 0:00:01\r\u001b[K     |████████████████████▍           | 40 kB 16.1 MB/s eta 0:00:01\r\u001b[K     |█████████████████████████▍      | 51 kB 10.2 MB/s eta 0:00:01\r\u001b[K     |██████████████████████████████▌ | 61 kB 10.0 MB/s eta 0:00:01\r\u001b[K     |████████████████████████████████| 64 kB 2.7 MB/s \n",
            "\u001b[?25hRequirement already satisfied: six in /usr/local/lib/python3.7/dist-packages (from bert-tensorflow) (1.15.0)\n",
            "Installing collected packages: bert-tensorflow\n",
            "Successfully installed bert-tensorflow-1.0.4\n",
            "Collecting torch==1.5.1\n",
            "  Downloading torch-1.5.1-cp37-cp37m-manylinux1_x86_64.whl (753.2 MB)\n",
            "\u001b[K     |████████████████████████████████| 753.2 MB 14 kB/s \n",
            "\u001b[?25hRequirement already satisfied: future in /usr/local/lib/python3.7/dist-packages (from torch==1.5.1) (0.16.0)\n",
            "Requirement already satisfied: numpy in /usr/local/lib/python3.7/dist-packages (from torch==1.5.1) (1.19.5)\n",
            "Installing collected packages: torch\n",
            "  Attempting uninstall: torch\n",
            "    Found existing installation: torch 1.10.0+cu111\n",
            "    Uninstalling torch-1.10.0+cu111:\n",
            "      Successfully uninstalled torch-1.10.0+cu111\n",
            "\u001b[31mERROR: pip's dependency resolver does not currently take into account all the packages that are installed. This behaviour is the source of the following dependency conflicts.\n",
            "torchvision 0.11.1+cu111 requires torch==1.10.0, but you have torch 1.5.1 which is incompatible.\n",
            "torchtext 0.11.0 requires torch==1.10.0, but you have torch 1.5.1 which is incompatible.\n",
            "torchaudio 0.10.0+cu111 requires torch==1.10.0, but you have torch 1.5.1 which is incompatible.\u001b[0m\n",
            "Successfully installed torch-1.5.1\n",
            "Collecting torchvision==0.6.1\n",
            "  Downloading torchvision-0.6.1-cp37-cp37m-manylinux1_x86_64.whl (6.6 MB)\n",
            "\u001b[K     |████████████████████████████████| 6.6 MB 6.1 MB/s \n",
            "\u001b[?25hRequirement already satisfied: pillow>=4.1.1 in /usr/local/lib/python3.7/dist-packages (from torchvision==0.6.1) (7.1.2)\n",
            "Requirement already satisfied: numpy in /usr/local/lib/python3.7/dist-packages (from torchvision==0.6.1) (1.19.5)\n",
            "Requirement already satisfied: torch==1.5.1 in /usr/local/lib/python3.7/dist-packages (from torchvision==0.6.1) (1.5.1)\n",
            "Requirement already satisfied: future in /usr/local/lib/python3.7/dist-packages (from torch==1.5.1->torchvision==0.6.1) (0.16.0)\n",
            "Installing collected packages: torchvision\n",
            "  Attempting uninstall: torchvision\n",
            "    Found existing installation: torchvision 0.11.1+cu111\n",
            "    Uninstalling torchvision-0.11.1+cu111:\n",
            "      Successfully uninstalled torchvision-0.11.1+cu111\n",
            "Successfully installed torchvision-0.6.1\n",
            "Collecting transformers==2.11.0\n",
            "  Downloading transformers-2.11.0-py3-none-any.whl (674 kB)\n",
            "\u001b[K     |████████████████████████████████| 674 kB 7.1 MB/s \n",
            "\u001b[?25hRequirement already satisfied: numpy in /usr/local/lib/python3.7/dist-packages (from transformers==2.11.0) (1.19.5)\n",
            "Collecting sacremoses\n",
            "  Downloading sacremoses-0.0.47-py2.py3-none-any.whl (895 kB)\n",
            "\u001b[K     |████████████████████████████████| 895 kB 63.0 MB/s \n",
            "\u001b[?25hCollecting sentencepiece\n",
            "  Downloading sentencepiece-0.1.96-cp37-cp37m-manylinux_2_17_x86_64.manylinux2014_x86_64.whl (1.2 MB)\n",
            "\u001b[K     |████████████████████████████████| 1.2 MB 56.0 MB/s \n",
            "\u001b[?25hRequirement already satisfied: regex!=2019.12.17 in /usr/local/lib/python3.7/dist-packages (from transformers==2.11.0) (2019.12.20)\n",
            "Requirement already satisfied: tqdm>=4.27 in /usr/local/lib/python3.7/dist-packages (from transformers==2.11.0) (4.62.3)\n",
            "Requirement already satisfied: requests in /usr/local/lib/python3.7/dist-packages (from transformers==2.11.0) (2.23.0)\n",
            "Collecting tokenizers==0.7.0\n",
            "  Downloading tokenizers-0.7.0-cp37-cp37m-manylinux1_x86_64.whl (5.6 MB)\n",
            "\u001b[K     |████████████████████████████████| 5.6 MB 32.8 MB/s \n",
            "\u001b[?25hRequirement already satisfied: packaging in /usr/local/lib/python3.7/dist-packages (from transformers==2.11.0) (21.3)\n",
            "Requirement already satisfied: filelock in /usr/local/lib/python3.7/dist-packages (from transformers==2.11.0) (3.4.2)\n",
            "Requirement already satisfied: pyparsing!=3.0.5,>=2.0.2 in /usr/local/lib/python3.7/dist-packages (from packaging->transformers==2.11.0) (3.0.6)\n",
            "Requirement already satisfied: urllib3!=1.25.0,!=1.25.1,<1.26,>=1.21.1 in /usr/local/lib/python3.7/dist-packages (from requests->transformers==2.11.0) (1.24.3)\n",
            "Requirement already satisfied: chardet<4,>=3.0.2 in /usr/local/lib/python3.7/dist-packages (from requests->transformers==2.11.0) (3.0.4)\n",
            "Requirement already satisfied: certifi>=2017.4.17 in /usr/local/lib/python3.7/dist-packages (from requests->transformers==2.11.0) (2021.10.8)\n",
            "Requirement already satisfied: idna<3,>=2.5 in /usr/local/lib/python3.7/dist-packages (from requests->transformers==2.11.0) (2.10)\n",
            "Requirement already satisfied: six in /usr/local/lib/python3.7/dist-packages (from sacremoses->transformers==2.11.0) (1.15.0)\n",
            "Requirement already satisfied: click in /usr/local/lib/python3.7/dist-packages (from sacremoses->transformers==2.11.0) (7.1.2)\n",
            "Requirement already satisfied: joblib in /usr/local/lib/python3.7/dist-packages (from sacremoses->transformers==2.11.0) (1.1.0)\n",
            "Installing collected packages: tokenizers, sentencepiece, sacremoses, transformers\n",
            "Successfully installed sacremoses-0.0.47 sentencepiece-0.1.96 tokenizers-0.7.0 transformers-2.11.0\n"
          ]
        }
      ]
    },
    {
      "cell_type": "code",
      "source": [
        "%tensorflow_version 1.x"
      ],
      "metadata": {
        "id": "UXSLTkGsMp4Z",
        "colab": {
          "base_uri": "https://localhost:8080/"
        },
        "outputId": "deee98cd-9129-4c6e-bd90-dceb526b094d"
      },
      "execution_count": null,
      "outputs": [
        {
          "output_type": "stream",
          "name": "stdout",
          "text": [
            "TensorFlow 1.x selected.\n"
          ]
        }
      ]
    },
    {
      "cell_type": "code",
      "source": [
        "import tensorflow\n",
        "print(tensorflow.__version__)"
      ],
      "metadata": {
        "colab": {
          "base_uri": "https://localhost:8080/"
        },
        "id": "0wULzPfvMtpZ",
        "outputId": "b7994b5e-ab16-4b36-922e-80cb70701af2"
      },
      "execution_count": null,
      "outputs": [
        {
          "output_type": "stream",
          "name": "stdout",
          "text": [
            "1.15.2\n"
          ]
        }
      ]
    },
    {
      "cell_type": "code",
      "source": [
        "import transformers\n",
        "print(transformers.__version__)"
      ],
      "metadata": {
        "colab": {
          "base_uri": "https://localhost:8080/"
        },
        "id": "51QKJlGOM1UI",
        "outputId": "22529dfe-9736-46fa-e41f-76a3ea01b368"
      },
      "execution_count": null,
      "outputs": [
        {
          "output_type": "stream",
          "name": "stdout",
          "text": [
            "2.11.0\n"
          ]
        }
      ]
    },
    {
      "cell_type": "code",
      "source": [
        "import torchvision\n",
        "print(torchvision.__version__)"
      ],
      "metadata": {
        "colab": {
          "base_uri": "https://localhost:8080/"
        },
        "id": "rQdRL5YjOIJo",
        "outputId": "5e0abb11-4952-4d8d-f5cf-5569dc1782a0"
      },
      "execution_count": null,
      "outputs": [
        {
          "output_type": "stream",
          "name": "stdout",
          "text": [
            "0.6.1\n"
          ]
        }
      ]
    },
    {
      "cell_type": "code",
      "source": [
        "import torch\n",
        "print(torch.__version__)"
      ],
      "metadata": {
        "colab": {
          "base_uri": "https://localhost:8080/"
        },
        "id": "CdIznT5xONp3",
        "outputId": "5c24a167-9af7-4460-d809-9d88671d1df3"
      },
      "execution_count": null,
      "outputs": [
        {
          "output_type": "stream",
          "name": "stdout",
          "text": [
            "1.5.1\n"
          ]
        }
      ]
    },
    {
      "cell_type": "code",
      "execution_count": null,
      "metadata": {
        "colab": {
          "base_uri": "https://localhost:8080/"
        },
        "id": "i5qJEOmeXN6b",
        "outputId": "caa2b6ff-cbff-4781-df33-e1dea350cbc9"
      },
      "outputs": [
        {
          "output_type": "stream",
          "name": "stderr",
          "text": [
            "/usr/local/lib/python3.7/dist-packages/ipykernel_launcher.py:7: FutureWarning: Passing a negative integer is deprecated in version 1.0 and will not be supported in future version. Instead, use None to not limit the column width.\n",
            "  import sys\n"
          ]
        }
      ],
      "source": [
        "import sys\n",
        "import numpy as np\n",
        "import pandas as pd\n",
        "import sklearn\n",
        "\n",
        "sys.path.append(\"..\")\n",
        "pd.set_option('display.max_colwidth', -1)"
      ]
    },
    {
      "cell_type": "code",
      "execution_count": null,
      "metadata": {
        "colab": {
          "base_uri": "https://localhost:8080/"
        },
        "id": "eMAZi12OXN6c",
        "outputId": "e0ee01cb-2afc-4bc6-cd51-fad4847a4296"
      },
      "outputs": [
        {
          "output_type": "execute_result",
          "data": {
            "text/plain": [
              "((6657, 3), (2410, 2), (666, 3))"
            ]
          },
          "metadata": {},
          "execution_count": 28
        }
      ],
      "source": [
        "df_train = pd.read_csv('../content/train.csv')\n",
        "df_test = pd.read_csv('../content/test.csv')\n",
        "df_score = pd.read_csv('../content/test_with_label.csv')\n",
        "df_val = pd.read_csv('../content/dev.csv')\n",
        "df_train.shape, df_test.shape, df_val.shape"
      ]
    },
    {
      "cell_type": "code",
      "source": [
        "df_train.label.unique()"
      ],
      "metadata": {
        "colab": {
          "base_uri": "https://localhost:8080/"
        },
        "id": "4shG2pprOuas",
        "outputId": "dcb5e155-d972-4d41-840c-ecd736312715"
      },
      "execution_count": null,
      "outputs": [
        {
          "output_type": "execute_result",
          "data": {
            "text/plain": [
              "array([0, 2, 1])"
            ]
          },
          "metadata": {},
          "execution_count": 11
        }
      ]
    },
    {
      "cell_type": "code",
      "source": [
        "df_score.label.unique()"
      ],
      "metadata": {
        "colab": {
          "base_uri": "https://localhost:8080/"
        },
        "id": "9oS07CedWzLE",
        "outputId": "569eeab7-927d-4ea7-d17b-0b6b8b87b9c7"
      },
      "execution_count": null,
      "outputs": [
        {
          "output_type": "execute_result",
          "data": {
            "text/plain": [
              "array([0, 1, 2])"
            ]
          },
          "metadata": {},
          "execution_count": 12
        }
      ]
    },
    {
      "cell_type": "code",
      "source": [
        "df_val.label.unique()"
      ],
      "metadata": {
        "colab": {
          "base_uri": "https://localhost:8080/"
        },
        "id": "GWAaIPrAW5C2",
        "outputId": "a96f86af-7b54-4619-9b3a-e7a605910d32"
      },
      "execution_count": null,
      "outputs": [
        {
          "output_type": "execute_result",
          "data": {
            "text/plain": [
              "array([0, 1, 2])"
            ]
          },
          "metadata": {},
          "execution_count": 13
        }
      ]
    },
    {
      "cell_type": "code",
      "execution_count": null,
      "metadata": {
        "colab": {
          "base_uri": "https://localhost:8080/"
        },
        "id": "mBEYUkNgXN6d",
        "outputId": "c92af025-ae38-4dce-a5dc-953233c21423"
      },
      "outputs": [
        {
          "output_type": "execute_result",
          "data": {
            "text/plain": [
              "0    3053\n",
              "1    2117\n",
              "2    1487\n",
              "Name: label, dtype: int64"
            ]
          },
          "metadata": {},
          "execution_count": 14
        }
      ],
      "source": [
        "df_train.label.value_counts()"
      ]
    },
    {
      "cell_type": "code",
      "execution_count": null,
      "metadata": {
        "colab": {
          "base_uri": "https://localhost:8080/"
        },
        "id": "Pz91zusVXN6e",
        "outputId": "14f6afe6-86cd-4bfa-81b3-a5c91e3ce1e4"
      },
      "outputs": [
        {
          "output_type": "execute_result",
          "data": {
            "text/plain": [
              "0    305\n",
              "1    212\n",
              "2    149\n",
              "Name: label, dtype: int64"
            ]
          },
          "metadata": {},
          "execution_count": 15
        }
      ],
      "source": [
        "df_val.label.value_counts()"
      ]
    },
    {
      "cell_type": "code",
      "execution_count": null,
      "metadata": {
        "colab": {
          "base_uri": "https://localhost:8080/"
        },
        "id": "nTV79d7JXN6f",
        "outputId": "594596b9-99ac-44d4-d772-e75b08227cdc"
      },
      "outputs": [
        {
          "output_type": "execute_result",
          "data": {
            "text/plain": [
              "0    1119\n",
              "1    724 \n",
              "2    567 \n",
              "Name: label, dtype: int64"
            ]
          },
          "metadata": {},
          "execution_count": 29
        }
      ],
      "source": [
        "df_score.label.value_counts()"
      ]
    },
    {
      "cell_type": "markdown",
      "metadata": {
        "id": "X_6pEjDJXN6f"
      },
      "source": [
        "## Training Transformers (Albert | Roberta | DistilBert) classifier with FrameWork"
      ]
    },
    {
      "cell_type": "code",
      "source": [
        "!pip install classitransformers"
      ],
      "metadata": {
        "colab": {
          "base_uri": "https://localhost:8080/"
        },
        "id": "l9j8c3roYDF_",
        "outputId": "6f83f3fe-4533-46ac-e502-632c5053035f"
      },
      "execution_count": null,
      "outputs": [
        {
          "output_type": "stream",
          "name": "stdout",
          "text": [
            "Collecting classitransformers\n",
            "  Downloading classitransformers-0.0.1-py3-none-any.whl (51 kB)\n",
            "\u001b[?25l\r\u001b[K     |██████▎                         | 10 kB 34.1 MB/s eta 0:00:01\r\u001b[K     |████████████▋                   | 20 kB 17.9 MB/s eta 0:00:01\r\u001b[K     |███████████████████             | 30 kB 14.7 MB/s eta 0:00:01\r\u001b[K     |█████████████████████████▎      | 40 kB 12.7 MB/s eta 0:00:01\r\u001b[K     |███████████████████████████████▋| 51 kB 7.5 MB/s eta 0:00:01\r\u001b[K     |████████████████████████████████| 51 kB 616 kB/s \n",
            "\u001b[?25hRequirement already satisfied: torchvision==0.6.1 in /usr/local/lib/python3.7/dist-packages (from classitransformers) (0.6.1)\n",
            "Requirement already satisfied: torch==1.5.1 in /usr/local/lib/python3.7/dist-packages (from classitransformers) (1.5.1)\n",
            "Requirement already satisfied: tensorflow-gpu==1.15.2 in /usr/local/lib/python3.7/dist-packages (from classitransformers) (1.15.2)\n",
            "Collecting wget\n",
            "  Downloading wget-3.2.zip (10 kB)\n",
            "Requirement already satisfied: bert-tensorflow in /usr/local/lib/python3.7/dist-packages (from classitransformers) (1.0.4)\n",
            "Requirement already satisfied: transformers==2.11.0 in /usr/local/lib/python3.7/dist-packages (from classitransformers) (2.11.0)\n",
            "Requirement already satisfied: absl-py>=0.7.0 in /usr/local/lib/python3.7/dist-packages (from tensorflow-gpu==1.15.2->classitransformers) (0.12.0)\n",
            "Requirement already satisfied: wheel>=0.26 in /usr/local/lib/python3.7/dist-packages (from tensorflow-gpu==1.15.2->classitransformers) (0.37.1)\n",
            "Requirement already satisfied: keras-applications>=1.0.8 in /tensorflow-1.15.2/python3.7 (from tensorflow-gpu==1.15.2->classitransformers) (1.0.8)\n",
            "Requirement already satisfied: gast==0.2.2 in /usr/local/lib/python3.7/dist-packages (from tensorflow-gpu==1.15.2->classitransformers) (0.2.2)\n",
            "Requirement already satisfied: wrapt>=1.11.1 in /usr/local/lib/python3.7/dist-packages (from tensorflow-gpu==1.15.2->classitransformers) (1.13.3)\n",
            "Requirement already satisfied: astor>=0.6.0 in /usr/local/lib/python3.7/dist-packages (from tensorflow-gpu==1.15.2->classitransformers) (0.8.1)\n",
            "Requirement already satisfied: keras-preprocessing>=1.0.5 in /usr/local/lib/python3.7/dist-packages (from tensorflow-gpu==1.15.2->classitransformers) (1.1.2)\n",
            "Requirement already satisfied: termcolor>=1.1.0 in /usr/local/lib/python3.7/dist-packages (from tensorflow-gpu==1.15.2->classitransformers) (1.1.0)\n",
            "Requirement already satisfied: tensorflow-estimator==1.15.1 in /tensorflow-1.15.2/python3.7 (from tensorflow-gpu==1.15.2->classitransformers) (1.15.1)\n",
            "Requirement already satisfied: grpcio>=1.8.6 in /usr/local/lib/python3.7/dist-packages (from tensorflow-gpu==1.15.2->classitransformers) (1.43.0)\n",
            "Requirement already satisfied: opt-einsum>=2.3.2 in /usr/local/lib/python3.7/dist-packages (from tensorflow-gpu==1.15.2->classitransformers) (3.3.0)\n",
            "Requirement already satisfied: protobuf>=3.6.1 in /usr/local/lib/python3.7/dist-packages (from tensorflow-gpu==1.15.2->classitransformers) (3.17.3)\n",
            "Requirement already satisfied: google-pasta>=0.1.6 in /usr/local/lib/python3.7/dist-packages (from tensorflow-gpu==1.15.2->classitransformers) (0.2.0)\n",
            "Requirement already satisfied: tensorboard<1.16.0,>=1.15.0 in /tensorflow-1.15.2/python3.7 (from tensorflow-gpu==1.15.2->classitransformers) (1.15.0)\n",
            "Requirement already satisfied: numpy<2.0,>=1.16.0 in /usr/local/lib/python3.7/dist-packages (from tensorflow-gpu==1.15.2->classitransformers) (1.19.5)\n",
            "Requirement already satisfied: six>=1.10.0 in /usr/local/lib/python3.7/dist-packages (from tensorflow-gpu==1.15.2->classitransformers) (1.15.0)\n",
            "Requirement already satisfied: future in /usr/local/lib/python3.7/dist-packages (from torch==1.5.1->classitransformers) (0.16.0)\n",
            "Requirement already satisfied: pillow>=4.1.1 in /usr/local/lib/python3.7/dist-packages (from torchvision==0.6.1->classitransformers) (7.1.2)\n",
            "Requirement already satisfied: requests in /usr/local/lib/python3.7/dist-packages (from transformers==2.11.0->classitransformers) (2.23.0)\n",
            "Requirement already satisfied: tqdm>=4.27 in /usr/local/lib/python3.7/dist-packages (from transformers==2.11.0->classitransformers) (4.62.3)\n",
            "Requirement already satisfied: sentencepiece in /usr/local/lib/python3.7/dist-packages (from transformers==2.11.0->classitransformers) (0.1.96)\n",
            "Requirement already satisfied: sacremoses in /usr/local/lib/python3.7/dist-packages (from transformers==2.11.0->classitransformers) (0.0.47)\n",
            "Requirement already satisfied: regex!=2019.12.17 in /usr/local/lib/python3.7/dist-packages (from transformers==2.11.0->classitransformers) (2019.12.20)\n",
            "Requirement already satisfied: packaging in /usr/local/lib/python3.7/dist-packages (from transformers==2.11.0->classitransformers) (21.3)\n",
            "Requirement already satisfied: tokenizers==0.7.0 in /usr/local/lib/python3.7/dist-packages (from transformers==2.11.0->classitransformers) (0.7.0)\n",
            "Requirement already satisfied: filelock in /usr/local/lib/python3.7/dist-packages (from transformers==2.11.0->classitransformers) (3.4.2)\n",
            "Requirement already satisfied: h5py in /usr/local/lib/python3.7/dist-packages (from keras-applications>=1.0.8->tensorflow-gpu==1.15.2->classitransformers) (3.1.0)\n",
            "Requirement already satisfied: markdown>=2.6.8 in /usr/local/lib/python3.7/dist-packages (from tensorboard<1.16.0,>=1.15.0->tensorflow-gpu==1.15.2->classitransformers) (3.3.6)\n",
            "Requirement already satisfied: werkzeug>=0.11.15 in /usr/local/lib/python3.7/dist-packages (from tensorboard<1.16.0,>=1.15.0->tensorflow-gpu==1.15.2->classitransformers) (1.0.1)\n",
            "Requirement already satisfied: setuptools>=41.0.0 in /usr/local/lib/python3.7/dist-packages (from tensorboard<1.16.0,>=1.15.0->tensorflow-gpu==1.15.2->classitransformers) (57.4.0)\n",
            "Requirement already satisfied: importlib-metadata>=4.4 in /usr/local/lib/python3.7/dist-packages (from markdown>=2.6.8->tensorboard<1.16.0,>=1.15.0->tensorflow-gpu==1.15.2->classitransformers) (4.10.0)\n",
            "Requirement already satisfied: typing-extensions>=3.6.4 in /usr/local/lib/python3.7/dist-packages (from importlib-metadata>=4.4->markdown>=2.6.8->tensorboard<1.16.0,>=1.15.0->tensorflow-gpu==1.15.2->classitransformers) (3.10.0.2)\n",
            "Requirement already satisfied: zipp>=0.5 in /usr/local/lib/python3.7/dist-packages (from importlib-metadata>=4.4->markdown>=2.6.8->tensorboard<1.16.0,>=1.15.0->tensorflow-gpu==1.15.2->classitransformers) (3.7.0)\n",
            "Requirement already satisfied: cached-property in /usr/local/lib/python3.7/dist-packages (from h5py->keras-applications>=1.0.8->tensorflow-gpu==1.15.2->classitransformers) (1.5.2)\n",
            "Requirement already satisfied: pyparsing!=3.0.5,>=2.0.2 in /usr/local/lib/python3.7/dist-packages (from packaging->transformers==2.11.0->classitransformers) (3.0.6)\n",
            "Requirement already satisfied: idna<3,>=2.5 in /usr/local/lib/python3.7/dist-packages (from requests->transformers==2.11.0->classitransformers) (2.10)\n",
            "Requirement already satisfied: urllib3!=1.25.0,!=1.25.1,<1.26,>=1.21.1 in /usr/local/lib/python3.7/dist-packages (from requests->transformers==2.11.0->classitransformers) (1.24.3)\n",
            "Requirement already satisfied: chardet<4,>=3.0.2 in /usr/local/lib/python3.7/dist-packages (from requests->transformers==2.11.0->classitransformers) (3.0.4)\n",
            "Requirement already satisfied: certifi>=2017.4.17 in /usr/local/lib/python3.7/dist-packages (from requests->transformers==2.11.0->classitransformers) (2021.10.8)\n",
            "Requirement already satisfied: joblib in /usr/local/lib/python3.7/dist-packages (from sacremoses->transformers==2.11.0->classitransformers) (1.1.0)\n",
            "Requirement already satisfied: click in /usr/local/lib/python3.7/dist-packages (from sacremoses->transformers==2.11.0->classitransformers) (7.1.2)\n",
            "Building wheels for collected packages: wget\n",
            "  Building wheel for wget (setup.py) ... \u001b[?25l\u001b[?25hdone\n",
            "  Created wheel for wget: filename=wget-3.2-py3-none-any.whl size=9675 sha256=43781d386292aad855a00ea2022563f6b55fb9b9a03560a381ae716eb7642e5b\n",
            "  Stored in directory: /root/.cache/pip/wheels/a1/b6/7c/0e63e34eb06634181c63adacca38b79ff8f35c37e3c13e3c02\n",
            "Successfully built wget\n",
            "Installing collected packages: wget, classitransformers\n",
            "Successfully installed classitransformers-0.0.1 wget-3.2\n"
          ]
        }
      ]
    },
    {
      "cell_type": "code",
      "execution_count": null,
      "metadata": {
        "id": "maFJu54RXN6g"
      },
      "outputs": [],
      "source": [
        "from classitransformers.report import metrics\n",
        "from classitransformers.configs import Configs\n",
        "from classitransformers.pytransformers import TransformersClassification"
      ]
    },
    {
      "cell_type": "code",
      "source": [
        "from classitransformers.downloader import downloader"
      ],
      "metadata": {
        "id": "4SRAufFMlCWA"
      },
      "execution_count": null,
      "outputs": []
    },
    {
      "cell_type": "code",
      "source": [
        "downloader('albert')"
      ],
      "metadata": {
        "colab": {
          "base_uri": "https://localhost:8080/"
        },
        "id": "cSTqz9qilGMh",
        "outputId": "6fab9c74-52a3-42d2-a9e6-917c0f87f409"
      },
      "execution_count": null,
      "outputs": [
        {
          "output_type": "stream",
          "name": "stdout",
          "text": [
            "Model gets downloaded here:  ../models/Albert\n"
          ]
        }
      ]
    },
    {
      "cell_type": "markdown",
      "metadata": {
        "id": "SBjpRK0BXN6h"
      },
      "source": [
        "## Set Configurations\n",
        "\n",
        "* Pre-trained folderpath\n",
        "* labels list\n",
        "* train, test and eval batch size\n",
        "* max_seq_len - how long is the each text input sentence !!\n",
        "* data_dir - data path folder (optional)\n",
        "* output_dir - output path folder (optional)"
      ]
    },
    {
      "cell_type": "code",
      "execution_count": null,
      "metadata": {
        "id": "Tqn-RaPdXN6h"
      },
      "outputs": [],
      "source": [
        "# config = Configs(\n",
        "#                 pretrained_model_dir = '../models/Albert',\n",
        "#                 model_name = 'albert',\n",
        "#                 num_train_epochs=3,\n",
        "#                 train_batch_size = 16,\n",
        "#                 eval_batch_size = 8, \n",
        "#                 do_train = True, \n",
        "#                 do_eval = True,\n",
        "#                 max_seq_length = 128,\n",
        "#                 label_list = [0,1,2],\n",
        "#                 data_dir = '../content',\n",
        "#                 output_dir = '../transformers_output_secfiling/')\n",
        "\n",
        "config = Configs(\n",
        "                # pretrained_model_dir = '../models/Albert',\n",
        "                pretrained_model_dir = '../transformers_output_secfiling/', #for testing\n",
        "                model_name = 'albert', \n",
        "                num_train_epochs=3,\n",
        "                train_batch_size = 16,\n",
        "                eval_batch_size = 8, \n",
        "                #  do_train = True, \n",
        "                do_train = False, # for testing\n",
        "                do_eval = True,\n",
        "                max_seq_length = 128,\n",
        "                # learning_rate = 5e-5,\n",
        "                label_list = [0,1,2],\n",
        "                data_dir = '../content'\n",
        "                # output_dir = '../transformers_output_secfiling/'\n",
        "                )\n"
      ]
    },
    {
      "cell_type": "code",
      "execution_count": null,
      "metadata": {
        "id": "CMd05UdEXN6i"
      },
      "outputs": [],
      "source": [
        "model = TransformersClassification(config)"
      ]
    },
    {
      "cell_type": "code",
      "source": [
        "config2 = Configs(\n",
        "                # pretrained_model_dir = '../models/Albert',\n",
        "                pretrained_model_dir = '../transformers_output_secfiling/', #for testing\n",
        "                model_name = 'albert', \n",
        "                num_train_epochs=3,\n",
        "                train_batch_size = 16,\n",
        "                eval_batch_size = 8, \n",
        "                #  do_train = True, \n",
        "                do_train = False, # for testing\n",
        "                do_eval = True,\n",
        "                max_seq_length = 128,\n",
        "                learning_rate = 5e-5,\n",
        "                label_list = [0,1,2],\n",
        "                data_dir = '../content',\n",
        "                # output_dir = '../transformers_output_secfiling/'\n",
        "                )\n",
        "\n",
        "# config2 = Configs(\n",
        "#                 pretrained_model_dir = '../models/Albert',\n",
        "#                 model_name = 'albert', \n",
        "#                 num_train_epochs=3,\n",
        "#                 train_batch_size = 16,\n",
        "#                 eval_batch_size = 8, \n",
        "#                 do_train = True, \n",
        "#                 do_eval = True,\n",
        "#                 max_seq_length = 128,\n",
        "#                 learning_rate = 5e-5,\n",
        "#                 label_list = [0,1,2],\n",
        "#                 data_dir = '../content',\n",
        "#                 output_dir = '../transformers_output_secfiling/')\n",
        "                 "
      ],
      "metadata": {
        "id": "IHnPr2OD1uxe"
      },
      "execution_count": null,
      "outputs": []
    },
    {
      "cell_type": "code",
      "source": [
        "model2 = TransformersClassification(config2)"
      ],
      "metadata": {
        "id": "sWxyCx9p14eB"
      },
      "execution_count": null,
      "outputs": []
    },
    {
      "cell_type": "markdown",
      "metadata": {
        "id": "4iZiLcuzXN6j"
      },
      "source": [
        "## Train Method"
      ]
    },
    {
      "cell_type": "code",
      "execution_count": null,
      "metadata": {
        "scrolled": true,
        "colab": {
          "base_uri": "https://localhost:8080/"
        },
        "id": "llVBMclSXN6j",
        "outputId": "7ec7a802-5277-4d81-ba4f-ab5d70e3c9e6"
      },
      "outputs": [
        {
          "output_type": "stream",
          "name": "stdout",
          "text": [
            "\n",
            "======== Epoch 1 / 3 ========\n",
            "Training...\n",
            "  Batch    40  of    417.    Elapsed: 0:00:08.\n",
            "  Batch    80  of    417.    Elapsed: 0:00:17.\n",
            "  Batch   120  of    417.    Elapsed: 0:00:25.\n",
            "  Batch   160  of    417.    Elapsed: 0:00:33.\n",
            "  Batch   200  of    417.    Elapsed: 0:00:42.\n",
            "  Batch   240  of    417.    Elapsed: 0:00:50.\n",
            "  Batch   280  of    417.    Elapsed: 0:00:58.\n",
            "  Batch   320  of    417.    Elapsed: 0:01:07.\n",
            "  Batch   360  of    417.    Elapsed: 0:01:15.\n",
            "  Batch   400  of    417.    Elapsed: 0:01:24.\n",
            "\n",
            "  Average training loss: 0.22\n",
            "  Training epcoh took: 0:01:27\n",
            "\n",
            "Running Validation...\n",
            "  Accuracy: 0.97\n",
            "  Validation Loss: 0.00\n",
            "  Validation took: 0:00:03\n",
            "\n",
            "======== Epoch 2 / 3 ========\n",
            "Training...\n",
            "  Batch    40  of    417.    Elapsed: 0:00:08.\n",
            "  Batch    80  of    417.    Elapsed: 0:00:17.\n",
            "  Batch   120  of    417.    Elapsed: 0:00:25.\n",
            "  Batch   160  of    417.    Elapsed: 0:00:33.\n",
            "  Batch   200  of    417.    Elapsed: 0:00:42.\n",
            "  Batch   240  of    417.    Elapsed: 0:00:50.\n",
            "  Batch   280  of    417.    Elapsed: 0:00:58.\n",
            "  Batch   320  of    417.    Elapsed: 0:01:07.\n",
            "  Batch   360  of    417.    Elapsed: 0:01:15.\n",
            "  Batch   400  of    417.    Elapsed: 0:01:23.\n",
            "\n",
            "  Average training loss: 0.13\n",
            "  Training epcoh took: 0:01:27\n",
            "\n",
            "Running Validation...\n",
            "  Accuracy: 0.98\n",
            "  Validation Loss: 0.00\n",
            "  Validation took: 0:00:03\n",
            "\n",
            "======== Epoch 3 / 3 ========\n",
            "Training...\n",
            "  Batch    40  of    417.    Elapsed: 0:00:08.\n",
            "  Batch    80  of    417.    Elapsed: 0:00:17.\n",
            "  Batch   120  of    417.    Elapsed: 0:00:25.\n",
            "  Batch   160  of    417.    Elapsed: 0:00:33.\n",
            "  Batch   200  of    417.    Elapsed: 0:00:42.\n",
            "  Batch   240  of    417.    Elapsed: 0:00:50.\n",
            "  Batch   280  of    417.    Elapsed: 0:00:58.\n",
            "  Batch   320  of    417.    Elapsed: 0:01:07.\n",
            "  Batch   360  of    417.    Elapsed: 0:01:15.\n",
            "  Batch   400  of    417.    Elapsed: 0:01:23.\n",
            "\n",
            "  Average training loss: 0.05\n",
            "  Training epcoh took: 0:01:27\n",
            "\n",
            "Running Validation...\n",
            "  Accuracy: 0.99\n",
            "  Validation Loss: 0.00\n",
            "  Validation took: 0:00:03\n",
            "Saving model to ./albert_output/\n",
            "\n",
            "Training complete!\n",
            "Total training took 0:04:31 (h:mm:ss)\n"
          ]
        }
      ],
      "source": [
        "model.train()"
      ]
    },
    {
      "cell_type": "markdown",
      "metadata": {
        "id": "-uEq6MU8XN6j"
      },
      "source": [
        "## Test Method"
      ]
    },
    {
      "cell_type": "code",
      "execution_count": null,
      "metadata": {
        "id": "OjtXN_MAXN6k"
      },
      "outputs": [],
      "source": [
        "prediction = model.test()"
      ]
    },
    {
      "cell_type": "markdown",
      "metadata": {
        "id": "Yj3b2LgYXN6k"
      },
      "source": [
        "**Testing a sentence, takes a list of sentences.**"
      ]
    },
    {
      "cell_type": "code",
      "execution_count": null,
      "metadata": {
        "colab": {
          "base_uri": "https://localhost:8080/"
        },
        "id": "UJfJlyGhXN6k",
        "outputId": "371e1db6-0f9f-4c9b-b2b4-1836933ceaf2"
      },
      "outputs": [
        {
          "output_type": "execute_result",
          "data": {
            "text/plain": [
              "[array([0.99568355, 0.0588629 , 0.16400427], dtype=float32)]"
            ]
          },
          "metadata": {},
          "execution_count": 27
        }
      ],
      "source": [
        "model.text_inference(['He is very good in writing a book on financial investment money making strategy. There are some transactional charges but the profit we make is awesome. The business people are exchanging bulk money over trades happening every seconds. Even retailers are happy doing trade and adding sum to their investments.'])"
      ]
    },
    {
      "cell_type": "code",
      "execution_count": null,
      "metadata": {
        "id": "OxTY75s4XN6l"
      },
      "outputs": [],
      "source": [
        "y_pred = [np.argmax(tup) for tup in prediction]\n",
        "y = df_score.label"
      ]
    },
    {
      "cell_type": "markdown",
      "metadata": {
        "id": "1iBP7I2DXN6l"
      },
      "source": [
        "## Accuracy and Report"
      ]
    },
    {
      "cell_type": "code",
      "execution_count": null,
      "metadata": {
        "colab": {
          "base_uri": "https://localhost:8080/",
          "height": 415
        },
        "id": "LZu6lon1XN6l",
        "outputId": "25ab340f-34aa-4b83-eb2c-254d23784060"
      },
      "outputs": [
        {
          "output_type": "stream",
          "name": "stdout",
          "text": [
            "\n",
            "\n",
            "Accuracy: 0.904\n",
            "Precision: 0.905\n",
            "Recall: 0.899\n",
            "F1-Score: 0.902\n"
          ]
        },
        {
          "output_type": "display_data",
          "data": {
            "image/png": "[encoded data removed]",
            "text/plain": [
              "<Figure size 432x288 with 2 Axes>"
            ]
          },
          "metadata": {
            "needs_background": "light"
          }
        }
      ],
      "source": [
        "metrics(y, y_pred)"
      ]
    },
    {
      "cell_type": "markdown",
      "source": [
        "Model 2\n"
      ],
      "metadata": {
        "id": "lAWqA9rX195d"
      }
    },
    {
      "cell_type": "code",
      "source": [
        "model2.train()"
      ],
      "metadata": {
        "colab": {
          "base_uri": "https://localhost:8080/"
        },
        "id": "q5Oh81Wm1Hzi",
        "outputId": "f29e8ddd-3cae-4e2e-ae98-50bf6b9b2496"
      },
      "execution_count": null,
      "outputs": [
        {
          "output_type": "stream",
          "name": "stdout",
          "text": [
            "\n",
            "======== Epoch 1 / 3 ========\n",
            "Training...\n",
            "  Batch    40  of    417.    Elapsed: 0:00:08.\n",
            "  Batch    80  of    417.    Elapsed: 0:00:16.\n",
            "  Batch   120  of    417.    Elapsed: 0:00:25.\n",
            "  Batch   160  of    417.    Elapsed: 0:00:33.\n",
            "  Batch   200  of    417.    Elapsed: 0:00:41.\n",
            "  Batch   240  of    417.    Elapsed: 0:00:49.\n",
            "  Batch   280  of    417.    Elapsed: 0:00:57.\n",
            "  Batch   320  of    417.    Elapsed: 0:01:06.\n",
            "  Batch   360  of    417.    Elapsed: 0:01:14.\n",
            "  Batch   400  of    417.    Elapsed: 0:01:22.\n",
            "\n",
            "  Average training loss: 0.24\n",
            "  Training epcoh took: 0:01:25\n",
            "\n",
            "Running Validation...\n",
            "  Accuracy: 0.97\n",
            "  Validation Loss: 0.00\n",
            "  Validation took: 0:00:03\n",
            "\n",
            "======== Epoch 2 / 3 ========\n",
            "Training...\n",
            "  Batch    40  of    417.    Elapsed: 0:00:08.\n",
            "  Batch    80  of    417.    Elapsed: 0:00:16.\n",
            "  Batch   120  of    417.    Elapsed: 0:00:25.\n",
            "  Batch   160  of    417.    Elapsed: 0:00:33.\n",
            "  Batch   200  of    417.    Elapsed: 0:00:41.\n",
            "  Batch   240  of    417.    Elapsed: 0:00:49.\n",
            "  Batch   280  of    417.    Elapsed: 0:00:57.\n",
            "  Batch   320  of    417.    Elapsed: 0:01:06.\n",
            "  Batch   360  of    417.    Elapsed: 0:01:14.\n",
            "  Batch   400  of    417.    Elapsed: 0:01:22.\n",
            "\n",
            "  Average training loss: 0.14\n",
            "  Training epcoh took: 0:01:25\n",
            "\n",
            "Running Validation...\n",
            "  Accuracy: 0.99\n",
            "  Validation Loss: 0.00\n",
            "  Validation took: 0:00:03\n",
            "\n",
            "======== Epoch 3 / 3 ========\n",
            "Training...\n",
            "  Batch    40  of    417.    Elapsed: 0:00:08.\n",
            "  Batch    80  of    417.    Elapsed: 0:00:16.\n",
            "  Batch   120  of    417.    Elapsed: 0:00:25.\n",
            "  Batch   160  of    417.    Elapsed: 0:00:33.\n",
            "  Batch   200  of    417.    Elapsed: 0:00:41.\n",
            "  Batch   240  of    417.    Elapsed: 0:00:49.\n",
            "  Batch   280  of    417.    Elapsed: 0:00:57.\n",
            "  Batch   320  of    417.    Elapsed: 0:01:06.\n",
            "  Batch   360  of    417.    Elapsed: 0:01:14.\n",
            "  Batch   400  of    417.    Elapsed: 0:01:22.\n",
            "\n",
            "  Average training loss: 0.06\n",
            "  Training epcoh took: 0:01:25\n",
            "\n",
            "Running Validation...\n",
            "  Accuracy: 1.00\n",
            "  Validation Loss: 0.00\n",
            "  Validation took: 0:00:03\n",
            "Saving model to ./albert_output/\n",
            "\n",
            "Training complete!\n",
            "Total training took 0:04:26 (h:mm:ss)\n"
          ]
        }
      ]
    },
    {
      "cell_type": "code",
      "source": [
        "prediction2 = model2.test()"
      ],
      "metadata": {
        "id": "0rXeVZie3RTX"
      },
      "execution_count": null,
      "outputs": []
    },
    {
      "cell_type": "code",
      "source": [
        "y_pred2 = [np.argmax(tup) for tup in prediction2]\n",
        "y = df_score.label"
      ],
      "metadata": {
        "id": "hqc9DU_U3Wjl"
      },
      "execution_count": null,
      "outputs": []
    },
    {
      "cell_type": "code",
      "source": [
        "metrics(y, y_pred2)"
      ],
      "metadata": {
        "colab": {
          "base_uri": "https://localhost:8080/",
          "height": 415
        },
        "id": "g1TpcgJK3gT0",
        "outputId": "4bae7f88-5d11-44a3-add6-df546c18f234"
      },
      "execution_count": null,
      "outputs": [
        {
          "output_type": "stream",
          "name": "stdout",
          "text": [
            "\n",
            "\n",
            "Accuracy: 0.898\n",
            "Precision: 0.889\n",
            "Recall: 0.899\n",
            "F1-Score: 0.893\n"
          ]
        },
        {
          "output_type": "display_data",
          "data": {
            "image/png": "[encoded data removed]",
            "text/plain": [
              "<Figure size 432x288 with 2 Axes>"
            ]
          },
          "metadata": {
            "needs_background": "light"
          }
        }
      ]
    },
    {
      "cell_type": "markdown",
      "source": [
        "Model3\n"
      ],
      "metadata": {
        "id": "h5qe1JQK3mAX"
      }
    },
    {
      "cell_type": "code",
      "source": [
        "# config3 = Configs(\n",
        "#                 pretrained_model_dir = '../models/Albert',\n",
        "#                 model_name = 'albert',\n",
        "#                 num_train_epochs=3,\n",
        "#                 train_batch_size = 16,\n",
        "#                 eval_batch_size = 8, \n",
        "#                 do_train = True, \n",
        "#                 do_eval = True,\n",
        "#                 max_seq_length = 500,\n",
        "#                 learning_rate = 5e-5,\n",
        "#                 label_list = [0,1,2],\n",
        "#                 data_dir = '../content',\n",
        "#                 output_dir = '../transformers_output_secfiling/')\n",
        "                 \n",
        "config3 = Configs(\n",
        "                # pretrained_model_dir = '../models/Albert',\n",
        "                pretrained_model_dir = '../transformers_output_secfiling/', #for testing\n",
        "                model_name = 'albert', \n",
        "                num_train_epochs=3,\n",
        "                train_batch_size = 16,\n",
        "                eval_batch_size = 8, \n",
        "                #  do_train = True, \n",
        "                do_train = False, # for testing\n",
        "                do_eval = True,\n",
        "                max_seq_length = 500,\n",
        "                learning_rate = 5e-5,\n",
        "                label_list = [0,1,2],\n",
        "                data_dir = '../content'\n",
        "                # output_dir = '../transformers_output_secfiling/'\n",
        "                )\n"
      ],
      "metadata": {
        "id": "3nOF64ZT3leQ"
      },
      "execution_count": null,
      "outputs": []
    },
    {
      "cell_type": "code",
      "source": [
        "model3 = TransformersClassification(config3)"
      ],
      "metadata": {
        "id": "dSWoMdx03xFO"
      },
      "execution_count": null,
      "outputs": []
    },
    {
      "cell_type": "code",
      "source": [
        "model3.train()"
      ],
      "metadata": {
        "colab": {
          "base_uri": "https://localhost:8080/"
        },
        "id": "YjsSh-If31Ij",
        "outputId": "d0a28743-f290-47c6-e012-4a5211064747"
      },
      "execution_count": null,
      "outputs": [
        {
          "output_type": "stream",
          "name": "stdout",
          "text": [
            "\n",
            "======== Epoch 1 / 3 ========\n",
            "Training...\n",
            "  Batch    40  of    417.    Elapsed: 0:00:34.\n",
            "  Batch    80  of    417.    Elapsed: 0:01:09.\n",
            "  Batch   120  of    417.    Elapsed: 0:01:43.\n",
            "  Batch   160  of    417.    Elapsed: 0:02:18.\n",
            "  Batch   200  of    417.    Elapsed: 0:02:52.\n",
            "  Batch   240  of    417.    Elapsed: 0:03:26.\n",
            "  Batch   280  of    417.    Elapsed: 0:04:01.\n",
            "  Batch   320  of    417.    Elapsed: 0:04:35.\n",
            "  Batch   360  of    417.    Elapsed: 0:05:10.\n",
            "  Batch   400  of    417.    Elapsed: 0:05:44.\n",
            "\n",
            "  Average training loss: 0.21\n",
            "  Training epcoh took: 0:05:58\n",
            "\n",
            "Running Validation...\n",
            "  Accuracy: 0.97\n",
            "  Validation Loss: 0.00\n",
            "  Validation took: 0:00:13\n",
            "\n",
            "======== Epoch 2 / 3 ========\n",
            "Training...\n",
            "  Batch    40  of    417.    Elapsed: 0:00:34.\n",
            "  Batch    80  of    417.    Elapsed: 0:01:09.\n",
            "  Batch   120  of    417.    Elapsed: 0:01:43.\n",
            "  Batch   160  of    417.    Elapsed: 0:02:18.\n",
            "  Batch   200  of    417.    Elapsed: 0:02:52.\n",
            "  Batch   240  of    417.    Elapsed: 0:03:26.\n",
            "  Batch   280  of    417.    Elapsed: 0:04:01.\n",
            "  Batch   320  of    417.    Elapsed: 0:04:35.\n",
            "  Batch   360  of    417.    Elapsed: 0:05:10.\n",
            "  Batch   400  of    417.    Elapsed: 0:05:44.\n",
            "\n",
            "  Average training loss: 0.15\n",
            "  Training epcoh took: 0:05:58\n",
            "\n",
            "Running Validation...\n",
            "  Accuracy: 1.00\n",
            "  Validation Loss: 0.00\n",
            "  Validation took: 0:00:13\n",
            "\n",
            "======== Epoch 3 / 3 ========\n",
            "Training...\n",
            "  Batch    40  of    417.    Elapsed: 0:00:34.\n",
            "  Batch    80  of    417.    Elapsed: 0:01:09.\n",
            "  Batch   120  of    417.    Elapsed: 0:01:43.\n",
            "  Batch   160  of    417.    Elapsed: 0:02:18.\n",
            "  Batch   200  of    417.    Elapsed: 0:02:52.\n",
            "  Batch   240  of    417.    Elapsed: 0:03:26.\n",
            "  Batch   280  of    417.    Elapsed: 0:04:01.\n",
            "  Batch   320  of    417.    Elapsed: 0:04:35.\n",
            "  Batch   360  of    417.    Elapsed: 0:05:10.\n",
            "  Batch   400  of    417.    Elapsed: 0:05:44.\n",
            "\n",
            "  Average training loss: 0.05\n",
            "  Training epcoh took: 0:05:58\n",
            "\n",
            "Running Validation...\n",
            "  Accuracy: 1.00\n",
            "  Validation Loss: 0.00\n",
            "  Validation took: 0:00:13\n",
            "Saving model to ./albert_output/\n",
            "\n",
            "Training complete!\n",
            "Total training took 0:18:34 (h:mm:ss)\n"
          ]
        }
      ]
    },
    {
      "cell_type": "code",
      "source": [
        "prediction3 = model3.test()"
      ],
      "metadata": {
        "id": "impO6d9q-QDH"
      },
      "execution_count": null,
      "outputs": []
    },
    {
      "cell_type": "code",
      "source": [
        "y_pred3 = [np.argmax(tup) for tup in prediction3]\n",
        "y = df_score.label"
      ],
      "metadata": {
        "id": "IDOQW73Q-UNf"
      },
      "execution_count": null,
      "outputs": []
    },
    {
      "cell_type": "code",
      "source": [
        "metrics(y, y_pred3)"
      ],
      "metadata": {
        "colab": {
          "base_uri": "https://localhost:8080/",
          "height": 415
        },
        "id": "APAc_ttZtOf3",
        "outputId": "37f56771-7288-4a50-98d1-d95a4bf89503"
      },
      "execution_count": null,
      "outputs": [
        {
          "output_type": "stream",
          "name": "stdout",
          "text": [
            "\n",
            "\n",
            "Accuracy: 0.903\n",
            "Precision: 0.900\n",
            "Recall: 0.896\n",
            "F1-Score: 0.898\n"
          ]
        },
        {
          "output_type": "display_data",
          "data": {
            "image/png": "[encoded data removed]",
            "text/plain": [
              "<Figure size 432x288 with 2 Axes>"
            ]
          },
          "metadata": {
            "needs_background": "light"
          }
        }
      ]
    },
    {
      "cell_type": "code",
      "source": [
        "metrics(y, y_pred3)"
      ],
      "metadata": {
        "colab": {
          "base_uri": "https://localhost:8080/",
          "height": 415
        },
        "id": "EFZR0jhH-YqW",
        "outputId": "4d812de1-3bf6-4d0e-fc0e-fafdd8d1a012"
      },
      "execution_count": null,
      "outputs": [
        {
          "output_type": "stream",
          "name": "stdout",
          "text": [
            "\n",
            "\n",
            "Accuracy: 0.948\n",
            "Precision: 0.943\n",
            "Recall: 0.951\n",
            "F1-Score: 0.947\n"
          ]
        },
        {
          "output_type": "display_data",
          "data": {
            "image/png": "[encoded data removed]",
            "text/plain": [
              "<Figure size 432x288 with 2 Axes>"
            ]
          },
          "metadata": {
            "needs_background": "light"
          }
        }
      ]
    },
    {
      "cell_type": "code",
      "source": [
        "import torch\n",
        "torch.save(model3, '../content/albert_trained3')\n",
        "\n",
        "# saved_model = torch.load('path/to/model')"
      ],
      "metadata": {
        "id": "GGCPedzEkO0y"
      },
      "execution_count": null,
      "outputs": []
    },
    {
      "cell_type": "code",
      "source": [
        "import torch\n",
        "torch.save(model2, '../content/albert_trained2')\n",
        "\n",
        "# saved_model = torch.load('path/to/model')"
      ],
      "metadata": {
        "id": "gonZ57MN1ohq"
      },
      "execution_count": null,
      "outputs": []
    },
    {
      "cell_type": "code",
      "source": [
        "import torch\n",
        "torch.save(model, '../content/albert_trained')\n",
        "\n",
        "# saved_model = torch.load('path/to/model')"
      ],
      "metadata": {
        "id": "wylMYN9tAa2W"
      },
      "execution_count": null,
      "outputs": []
    }
  ],
  "metadata": {
    "kernelspec": {
      "display_name": "Python 3",
      "name": "python3"
    },
    "language_info": {
      "name": "python"
    },
    "colab": {
      "name": "model_building_bert_v2.ipynb",
      "provenance": [],
      "collapsed_sections": []
    },
    "accelerator": "GPU"
  },
  "nbformat": 4,
  "nbformat_minor": 0
}